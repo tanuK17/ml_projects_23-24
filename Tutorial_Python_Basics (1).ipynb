{
  "cells": [
    {
      "cell_type": "markdown",
      "id": "423acf2b",
      "metadata": {
        "id": "423acf2b"
      },
      "source": [
        "# Python Basics + Exercises"
      ]
    },
    {
      "cell_type": "markdown",
      "id": "a607db6e",
      "metadata": {},
      "source": []
    },
    {
      "cell_type": "markdown",
      "id": "eb9404cc",
      "metadata": {
        "id": "eb9404cc"
      },
      "source": [
        "*Note: This lab session is graded. Complete all the exercises and submit the ipynb to canvas under assignment **Tutorial: Python Programming Basics** by **no later than end of today 01/26/2023, 11:59PM**. Tutorials are meant to be complete in class.\n",
        "\n",
        "## 1. What is Python\n",
        "- A programming language\n",
        "- **Programming = Instructing computers to compute**\n",
        "- Considered as a \"scripting language\", but is much more\n",
        "\n",
        "## 2. History of Python\n",
        "- Invented by Guido van Rossum in the Netherlands (early 90s)\n",
        "- Open sourced from the beginning\n",
        "- Used in the industry (e.g., Google) from the beginning\n",
        "- Popular and miles ahead for data-science / ML of other languages\n",
        "\n",
        "## IMPORTANT: Always go through : https://docs.python.org/3/tutorial/index.html\n",
        "\n",
        "### Good reference : DataCamp: Introduction to Python: https://www.datacamp.com/courses/intro-to-python-for-data-science\n"
      ]
    },
    {
      "cell_type": "markdown",
      "id": "84df597c",
      "metadata": {
        "id": "84df597c"
      },
      "source": [
        "## 3. Jupyter Cells\n",
        "- Code Cells: For writing program snippets\n",
        "- Markdown Cells: For reporting, commenting, formatting content"
      ]
    },
    {
      "cell_type": "markdown",
      "id": "16eda5fb",
      "metadata": {
        "id": "16eda5fb"
      },
      "source": [
        "# Programming: Instructing to Compute , Variables: Store Data\n",
        "\n",
        "- One\n",
        "- Two\n",
        "- Three"
      ]
    },
    {
      "cell_type": "code",
      "execution_count": null,
      "id": "0c1ddb60",
      "metadata": {
        "colab": {
          "base_uri": "https://localhost:8080/"
        },
        "id": "0c1ddb60",
        "outputId": "8c03f254-0e83-48c7-90c8-c26a9b7e9fb3"
      },
      "outputs": [
        {
          "name": "stdout",
          "output_type": "stream",
          "text": [
            "25.0\n"
          ]
        }
      ],
      "source": [
        "print (100/4)"
      ]
    },
    {
      "cell_type": "markdown",
      "id": "e8d0279f",
      "metadata": {
        "id": "e8d0279f"
      },
      "source": [
        "- We often need to perform a series of computation. So, we must to store the data and resue\n",
        "- Data is stored in memory (RAM) through VARIABLES"
      ]
    },
    {
      "cell_type": "code",
      "execution_count": null,
      "id": "62abb7c1",
      "metadata": {
        "colab": {
          "base_uri": "https://localhost:8080/"
        },
        "id": "62abb7c1",
        "outputId": "9ced4e44-4e6e-43e8-fc93-77e1a47a65c3",
        "scrolled": true
      },
      "outputs": [
        {
          "name": "stdout",
          "output_type": "stream",
          "text": [
            "25.0\n",
            "30\n"
          ]
        }
      ],
      "source": [
        "x = 100/4\n",
        "print (x)\n",
        "\n",
        "x = 30\n",
        "print(x)\n"
      ]
    },
    {
      "cell_type": "code",
      "execution_count": null,
      "id": "45e62d6e",
      "metadata": {
        "colab": {
          "base_uri": "https://localhost:8080/"
        },
        "id": "45e62d6e",
        "outputId": "8b067222-f8c2-41cc-f81e-67261651c210"
      },
      "outputs": [
        {
          "name": "stdout",
          "output_type": "stream",
          "text": [
            "33\n"
          ]
        }
      ],
      "source": [
        "y = x +3\n",
        "print (y)"
      ]
    },
    {
      "cell_type": "code",
      "execution_count": null,
      "id": "bc68c526",
      "metadata": {
        "id": "bc68c526",
        "outputId": "7a23de59-ee27-4d9c-e868-cdb00b495d24"
      },
      "outputs": [
        {
          "name": "stdout",
          "output_type": "stream",
          "text": [
            "700.0\n"
          ]
        }
      ],
      "source": [
        "z = y*x\n",
        "print (z)"
      ]
    },
    {
      "cell_type": "markdown",
      "id": "e2661f89",
      "metadata": {
        "id": "e2661f89"
      },
      "source": [
        "- We can override variables already defined. BE CAREFUL when you override, it can wipe out data\n"
      ]
    },
    {
      "cell_type": "code",
      "execution_count": null,
      "id": "ef2ee332",
      "metadata": {
        "id": "ef2ee332",
        "outputId": "9f7e959f-f12f-4c42-b4f8-203c9af71cd8"
      },
      "outputs": [
        {
          "name": "stdout",
          "output_type": "stream",
          "text": [
            "25.0\n",
            "30\n"
          ]
        }
      ],
      "source": [
        "print (x)\n",
        "x = 30\n",
        "print(x)"
      ]
    },
    {
      "cell_type": "markdown",
      "id": "30d9a17d",
      "metadata": {
        "id": "30d9a17d"
      },
      "source": [
        "- Printing messages and data within the program"
      ]
    },
    {
      "cell_type": "code",
      "execution_count": null,
      "id": "eb4e7dfa",
      "metadata": {
        "colab": {
          "base_uri": "https://localhost:8080/"
        },
        "id": "eb4e7dfa",
        "outputId": "26707df4-b2c2-4b7b-91f4-dc5bf841f513"
      },
      "outputs": [
        {
          "name": "stdout",
          "output_type": "stream",
          "text": [
            "We are going to print the value of x\n",
            "The value of x is 30\n"
          ]
        }
      ],
      "source": [
        "x = 30\n",
        "print (\"We are going to print the value of x\")\n",
        "print (f\"The value of x is {x}\")"
      ]
    },
    {
      "cell_type": "markdown",
      "id": "a997c126",
      "metadata": {
        "id": "a997c126"
      },
      "source": [
        "## 5. Basic variable types (a.k.a data types)\n",
        "- Integer (0, +ve, -ve numbers)\n",
        "- Float (decimal)\n",
        "- String (text)\n",
        "- Boolean (True/False)"
      ]
    },
    {
      "cell_type": "code",
      "execution_count": null,
      "id": "a75b3a56",
      "metadata": {
        "id": "a75b3a56",
        "outputId": "12e6da50-ebe7-49bd-d632-92fe79323f99",
        "scrolled": true
      },
      "outputs": [
        {
          "name": "stdout",
          "output_type": "stream",
          "text": [
            "x is of type <class 'int'>\n",
            "x is of type <class 'int'>\n",
            "x is of type <class 'float'>\n",
            "x is of type <class 'str'>\n",
            "x is of type <class 'bool'>\n"
          ]
        }
      ],
      "source": [
        "x = 100\n",
        "print (f\"x is of type {type(x)}\")\n",
        "\n",
        "x = -9\n",
        "print (f\"x is of type {type(x)}\")\n",
        "\n",
        "x = 20.3\n",
        "print (f\"x is of type {type(x)}\")\n",
        "\n",
        "x = \"Hello world\"\n",
        "print (f\"x is of type {type(x)}\")\n",
        "\n",
        "x = True\n",
        "print (f\"x is of type {type(x)}\")"
      ]
    },
    {
      "cell_type": "markdown",
      "id": "e729c8d4",
      "metadata": {
        "id": "e729c8d4"
      },
      "source": [
        "## E0. Exercise: what type of variable needed?\n",
        "- Scenario 1: Storing population of a country\n",
        "<b> Answer: Integer</b>\n",
        "- Scenario 2: Storing a warning to be displayed on canvas when a student does not complete their assignment\n",
        "<b> Answer: String</b>\n",
        "- Scenario 3: Storing your decision to go to a restaurant or not\n",
        "<b> Answer: Boolean (T/F) </b>\n",
        "- Scenario 4: Storing a warning to be displayed when a webpage does not load\n",
        "<b> Answer: String </b>\n",
        "- Scenario 5: Storing per-capita income for a state\n",
        "<b> Answer: Float </b>"
      ]
    },
    {
      "cell_type": "markdown",
      "id": "fXXLRpdKX-Vc",
      "metadata": {
        "id": "fXXLRpdKX-Vc"
      },
      "source": [
        "Scenario1:"
      ]
    },
    {
      "cell_type": "code",
      "execution_count": null,
      "id": "VTXbdWhpX8L6",
      "metadata": {
        "id": "VTXbdWhpX8L6"
      },
      "outputs": [],
      "source": []
    },
    {
      "cell_type": "markdown",
      "id": "e48f4a20",
      "metadata": {
        "id": "e48f4a20"
      },
      "source": [
        "### 6. Imporant: Variable declaration\n",
        "- Keep the names of variables intuitive and easy to read\n",
        "- Use \"multiword\" variables whenever possible\n",
        "- Separate words in a multiword variable with \"\\_\" (underscore) sign"
      ]
    },
    {
      "cell_type": "markdown",
      "id": "70c4da0d",
      "metadata": {
        "id": "70c4da0d"
      },
      "source": [
        "### 7. Example: Ideal Gas Law\n",
        "\n",
        "**Pressure = (Gas constant \\* temperature) / volume**"
      ]
    },
    {
      "cell_type": "code",
      "execution_count": null,
      "id": "8febdb10",
      "metadata": {
        "id": "8febdb10",
        "outputId": "0a992713-6909-4ffe-f8e9-15d0f10eafe1"
      },
      "outputs": [
        {
          "name": "stdout",
          "output_type": "stream",
          "text": [
            "The pressure is 38.0875\n"
          ]
        }
      ],
      "source": [
        "x = 55 # does not convey what x is\n",
        "\n",
        "temperature = 55\n",
        "volume = 12\n",
        "gas_constant = 8.31\n",
        "\n",
        "pressure = (gas_constant*temperature)/volume\n",
        "print (f\"The pressure is {pressure}\")"
      ]
    },
    {
      "cell_type": "markdown",
      "id": "19d865d8",
      "metadata": {
        "id": "19d865d8"
      },
      "source": [
        "### E2. Exercise: Calculate the area of a circle whose radius is 5cm\n",
        "\n"
      ]
    },
    {
      "cell_type": "code",
      "execution_count": 13,
      "id": "NQJSswi6Xp8n",
      "metadata": {
        "colab": {
          "base_uri": "https://localhost:8080/"
        },
        "id": "NQJSswi6Xp8n",
        "outputId": "04e2f975-21b3-4204-b792-8807f55572d0"
      },
      "outputs": [
        {
          "name": "stdout",
          "output_type": "stream",
          "text": [
            "78.5\n"
          ]
        }
      ],
      "source": [
        "PI = 3.14\n",
        "radius = 5\n",
        "area = PI * (radius**2)\n",
        "print(area)\n"
      ]
    },
    {
      "cell_type": "markdown",
      "id": "b65b5017",
      "metadata": {
        "id": "b65b5017"
      },
      "source": [
        "### 8. Functions\n",
        "- Imagine if you have to compute the pressure values for 100 different <temperature,volume> inputs\n",
        "- Copying and editing the above code 100 times is not a good idea\n",
        "- Like variables functions ensure reusability - *reusing operations*\n",
        "- **Fuctions:**\n",
        "    1. Are block of code which only runs when it is called.\n",
        "    2. You can pass data, known as parameters, into a function.\n",
        "    3. A function can optionally return a result\n",
        "- In python: keyword \"def\" defines a function\n",
        "- Indent the internal block\n",
        "\n"
      ]
    },
    {
      "cell_type": "code",
      "execution_count": 12,
      "id": "26a3f850",
      "metadata": {
        "id": "26a3f850"
      },
      "outputs": [],
      "source": [
        "def calculate_pressure (temperature, volume):\n",
        "    '''\n",
        "    Inputs:\n",
        "        [1] temperatue, type <'int'>\n",
        "        [2] volume, type <float>\n",
        "    Output:\n",
        "        [1] pressure, type <'float'>\n",
        "    '''\n",
        "    gas_constant = 8.31\n",
        "    pressure = (gas_constant*temperature)/volume\n",
        "    return pressure\n",
        "\n",
        "def calculate_pressure_and_print (temperature, volume):\n",
        "    '''\n",
        "    Inputs:\n",
        "        [1] temperatue, type <'int'>\n",
        "        [2] volume, type <float>\n",
        "    Output:\n",
        "        None\n",
        "    '''\n",
        "    gas_constant = 8.31\n",
        "    pressure = (gas_constant*temperature)/volume\n",
        "    print(f\"The pressure is {pressure}\")"
      ]
    },
    {
      "cell_type": "markdown",
      "id": "4023a52d",
      "metadata": {
        "id": "4023a52d"
      },
      "source": [
        "**We are outside the function blocks now**"
      ]
    },
    {
      "cell_type": "code",
      "execution_count": null,
      "id": "b4162a12",
      "metadata": {
        "id": "b4162a12",
        "outputId": "cae98840-e551-44a5-dbb2-7de584dd27a2"
      },
      "outputs": [
        {
          "name": "stdout",
          "output_type": "stream",
          "text": [
            "44.666250000000005\n",
            "36.564\n",
            "The pressure is 44.666250000000005\n",
            "The pressure is 36.564\n"
          ]
        }
      ],
      "source": [
        "pressure_1 = calculate_pressure(43, 8)\n",
        "pressure_2 = calculate_pressure (volume=15, temperature=66)\n",
        "\n",
        "print (pressure_1)\n",
        "print (pressure_2)\n",
        "\n",
        "calculate_pressure_and_print(temperature=43, volume=8)\n",
        "calculate_pressure_and_print(temperature=66, volume=15)"
      ]
    },
    {
      "cell_type": "markdown",
      "id": "f930b956",
      "metadata": {
        "id": "f930b956"
      },
      "source": [
        "### E3. Exercise: Implement a function area_of_circle\n",
        " - How many inputs do you need?\n",
        " - Write the function\n",
        " - Calculate area of circles with radii 20, 34, 5144, -3"
      ]
    },
    {
      "cell_type": "code",
      "execution_count": 18,
      "id": "KsKlc8bpYaIz",
      "metadata": {
        "id": "KsKlc8bpYaIz"
      },
      "outputs": [],
      "source": [
        "def area_of_circle(radius):\n",
        "  PI = 3.14\n",
        "  area = PI * (radius**2)\n",
        "  return area\n"
      ]
    },
    {
      "cell_type": "code",
      "execution_count": 21,
      "id": "56U-_wj0aGd5",
      "metadata": {
        "colab": {
          "base_uri": "https://localhost:8080/"
        },
        "id": "56U-_wj0aGd5",
        "outputId": "90660763-18fd-4b71-b5f9-32df393f6c0a"
      },
      "outputs": [
        {
          "name": "stdout",
          "output_type": "stream",
          "text": [
            "1256.0\n",
            "3629.84\n",
            "83086711.04\n",
            "28.26\n"
          ]
        }
      ],
      "source": [
        "print(area_of_circle(20))\n",
        "print(area_of_circle(34))\n",
        "print(area_of_circle(5144))\n",
        "print(area_of_circle(-3))\n"
      ]
    },
    {
      "cell_type": "markdown",
      "id": "fe58af21",
      "metadata": {
        "id": "fe58af21"
      },
      "source": [
        "## 9. Control Structure\n",
        "- **Sequences**: One step after another, like the code we have written above\n",
        "- **Branching**: Selecting one choice from many based on a specific reason or condition\n",
        "- **Looping**: Doing something over and over again\n"
      ]
    },
    {
      "cell_type": "markdown",
      "id": "d7cc9c15",
      "metadata": {
        "id": "d7cc9c15"
      },
      "source": [
        "**Branching: Let's put a condition to check the inputs**"
      ]
    },
    {
      "cell_type": "code",
      "execution_count": 22,
      "id": "0bc2c5ec",
      "metadata": {
        "colab": {
          "base_uri": "https://localhost:8080/"
        },
        "id": "0bc2c5ec",
        "outputId": "2fcd2393-ab5d-4388-9bfb-8d822fc09de5"
      },
      "outputs": [
        {
          "name": "stdout",
          "output_type": "stream",
          "text": [
            "The pressure is 2000\n",
            "Volume can not be negative. Please provide a positive value for volume\n"
          ]
        }
      ],
      "source": [
        "def calculate_pressure_and_print_with_checks (temperature, volume):\n",
        "    '''\n",
        "    Inputs:\n",
        "        [1] temperatue, type <'int'>\n",
        "        [2] volume, type <float>\n",
        "    Output:\n",
        "        None\n",
        "    '''\n",
        "\n",
        "    gas_constant = 8.31\n",
        "\n",
        "    if (volume < 0):\n",
        "        print (\"Volume can not be negative. Please provide a positive value for volume\")\n",
        "    else:\n",
        "        pressure = temperature * volume\n",
        "        print(f\"The pressure is {pressure}\")\n",
        "\n",
        "# We are outside the function block\n",
        "calculate_pressure_and_print_with_checks(temperature = 100, volume = 20)\n",
        "calculate_pressure_and_print_with_checks(temperature = 100, volume = -3)"
      ]
    },
    {
      "cell_type": "markdown",
      "id": "fc02ff2e",
      "metadata": {
        "id": "fc02ff2e"
      },
      "source": [
        "### E4. Exercise: Calculate area of a circle but do not process negative radii\n"
      ]
    },
    {
      "cell_type": "code",
      "execution_count": 33,
      "id": "0YFS9ODEamf-",
      "metadata": {
        "colab": {
          "base_uri": "https://localhost:8080/"
        },
        "id": "0YFS9ODEamf-",
        "outputId": "4791f9f9-43c0-4f6c-95fd-fb3d211b93be"
      },
      "outputs": [
        {
          "name": "stdout",
          "output_type": "stream",
          "text": [
            "78.5\n",
            "Radius cannot be negative. Please provide a positive value for radius. \n",
            "None\n"
          ]
        }
      ],
      "source": [
        "def area_of_circle(radius):\n",
        "  PI = 3.14\n",
        "\n",
        "\n",
        "  if (radius < 0):\n",
        "    return(\"Radius cannot be negative. Please provide a positive value for radius. \")\n",
        "  else:\n",
        "    area = PI * (radius**2)\n",
        "    return area\n",
        "\n",
        "print(area_of_circle(5))\n",
        "print(area_of_circle(-50))\n"
      ]
    },
    {
      "cell_type": "markdown",
      "id": "51e271d5",
      "metadata": {
        "id": "51e271d5"
      },
      "source": [
        "**Branching with multiple conditions using AND and OR**\n",
        "\n",
        "**Criteria: both temperature and volume can not be negative**\n"
      ]
    },
    {
      "cell_type": "code",
      "execution_count": null,
      "id": "f2c2f57c",
      "metadata": {
        "id": "f2c2f57c"
      },
      "outputs": [],
      "source": [
        "def calculate_pressure_and_print_with_checks (temperature, volume):\n",
        "    '''\n",
        "    Inputs:\n",
        "        [1] temperatue, type <'int'>\n",
        "        [2] volume, type <float>\n",
        "    Output:\n",
        "        None\n",
        "    '''\n",
        "\n",
        "    gas_constant = 8.31\n",
        "\n",
        "    if (volume < 0 or temperature <0):\n",
        "        print (\"Neither temperature nor volume can be negative. Please provide a positive values\")\n",
        "    else:\n",
        "        pressure = temperature * volume\n",
        "        print(f\"The pressure is {pressure}\")"
      ]
    },
    {
      "cell_type": "code",
      "execution_count": null,
      "id": "ea9450c1",
      "metadata": {
        "id": "ea9450c1",
        "outputId": "c4bfa95c-509c-4b5b-9e5c-5f7c85ff78fa",
        "scrolled": true
      },
      "outputs": [
        {
          "name": "stdout",
          "output_type": "stream",
          "text": [
            "Neither temperature nor volume can be negative. Please provide a positive values\n",
            "Neither temperature nor volume can be negative. Please provide a positive values\n",
            "Neither temperature nor volume can be negative. Please provide a positive values\n",
            "The pressure is 504\n"
          ]
        }
      ],
      "source": [
        "calculate_pressure_and_print_with_checks(temperature = 100, volume = -3)\n",
        "calculate_pressure_and_print_with_checks(temperature = -42, volume = 12)\n",
        "calculate_pressure_and_print_with_checks(temperature = -42, volume = -12)\n",
        "calculate_pressure_and_print_with_checks(temperature = 42, volume = 12)\n"
      ]
    },
    {
      "cell_type": "markdown",
      "id": "8cf8dd22",
      "metadata": {
        "id": "8cf8dd22"
      },
      "source": [
        "**Same program with AND operation**"
      ]
    },
    {
      "cell_type": "code",
      "execution_count": null,
      "id": "895608b2",
      "metadata": {
        "id": "895608b2",
        "outputId": "a40f669b-bd32-45f4-f839-099ba9f5bf3d"
      },
      "outputs": [
        {
          "name": "stdout",
          "output_type": "stream",
          "text": [
            "Neither temperature nor volume can be negative. Please provide a positive values\n",
            "Neither temperature nor volume can be negative. Please provide a positive values\n",
            "Neither temperature nor volume can be negative. Please provide a positive values\n",
            "The pressure is 504\n"
          ]
        }
      ],
      "source": [
        "def calculate_pressure_and_print_with_checks(temperature, volume):\n",
        "    '''\n",
        "    Inputs:\n",
        "        [1] temperatue, type <'int'>\n",
        "        [2] volume, type <float>\n",
        "    Output:\n",
        "        None\n",
        "    '''\n",
        "\n",
        "    gas_constant = 8.31\n",
        "\n",
        "    if (volume >= 0 and temperature >=0):\n",
        "        pressure = temperature * volume\n",
        "        print(f\"The pressure is {pressure}\")\n",
        "    else:\n",
        "        print (\"Neither temperature nor volume can be negative. Please provide a positive values\")\n",
        "\n",
        "calculate_pressure_and_print_with_checks(temperature = 100, volume = -3)\n",
        "calculate_pressure_and_print_with_checks(temperature = -42, volume = 12)\n",
        "calculate_pressure_and_print_with_checks(temperature = -42, volume = -12)\n",
        "calculate_pressure_and_print_with_checks(temperature = 42, volume = 12)"
      ]
    },
    {
      "cell_type": "markdown",
      "id": "9f3ba56d",
      "metadata": {
        "id": "9f3ba56d"
      },
      "source": [
        "## 10. Looping\n",
        "- Doing something over and over again\n",
        "- Used in combination with decision making\n",
        "    - Otherwise we loop forever\n",
        "    - This is called an “infinite loop”\n",
        "\n",
        "**Print numbers 1 to 20**"
      ]
    },
    {
      "cell_type": "code",
      "execution_count": null,
      "id": "34ab4693",
      "metadata": {
        "id": "34ab4693",
        "outputId": "098a23cf-0181-474d-894c-b406415641f1"
      },
      "outputs": [
        {
          "name": "stdout",
          "output_type": "stream",
          "text": [
            "1\n",
            "2\n",
            "3\n",
            "4\n",
            "5\n",
            "6\n",
            "7\n",
            "8\n",
            "9\n",
            "10\n",
            "11\n",
            "12\n",
            "13\n",
            "14\n",
            "15\n",
            "16\n",
            "17\n",
            "18\n",
            "19\n",
            "20\n"
          ]
        }
      ],
      "source": [
        "number = 1\n",
        "while number <=20:\n",
        "    print (number)\n",
        "    number = number +1"
      ]
    },
    {
      "cell_type": "code",
      "execution_count": null,
      "id": "ctiiF4uglEwG",
      "metadata": {
        "id": "ctiiF4uglEwG"
      },
      "outputs": [],
      "source": []
    },
    {
      "cell_type": "markdown",
      "id": "d866539f",
      "metadata": {
        "id": "d866539f"
      },
      "source": [
        "### E5. Exercise: Loops\n",
        "1. Print numbers between 8 and 14 (including both 8 and 15)\n",
        "2. Loop through the numbers 1 to 20 and if a number is \"odd\" (i.e. not divisible by 2) only then print the number else ignore\n",
        "[Hint: if a number \"n\" is divisible by another number \"c\", then `n%c = 0`, in other words\n",
        "```\n",
        "if (n%c) != 0:\n",
        "  print(f\"The number {n} is not divisible by {c}\")\n",
        "```"
      ]
    },
    {
      "cell_type": "code",
      "execution_count": 34,
      "id": "CK5rB9BjkFJ7",
      "metadata": {
        "colab": {
          "base_uri": "https://localhost:8080/"
        },
        "id": "CK5rB9BjkFJ7",
        "outputId": "876288e7-72d7-409c-ccaf-e1de8f3270da"
      },
      "outputs": [
        {
          "name": "stdout",
          "output_type": "stream",
          "text": [
            "8\n",
            "9\n",
            "10\n",
            "11\n",
            "12\n",
            "13\n",
            "14\n"
          ]
        }
      ],
      "source": [
        "number = 8\n",
        "\n",
        "while number <= 14:\n",
        "  print(number)\n",
        "  number += 1"
      ]
    },
    {
      "cell_type": "code",
      "execution_count": 35,
      "id": "5MGZhunYkNIF",
      "metadata": {
        "colab": {
          "base_uri": "https://localhost:8080/"
        },
        "id": "5MGZhunYkNIF",
        "outputId": "013d7974-e605-4bba-da6d-a4070315452b"
      },
      "outputs": [
        {
          "name": "stdout",
          "output_type": "stream",
          "text": [
            "1\n",
            "3\n",
            "5\n",
            "7\n",
            "9\n",
            "11\n",
            "13\n",
            "15\n",
            "17\n",
            "19\n"
          ]
        }
      ],
      "source": [
        "number = 1\n",
        "\n",
        "while number <= 20:\n",
        "  if number % 2 != 0:\n",
        "    print(number)\n",
        "    number += 1\n",
        "  else:\n",
        "    number += 1"
      ]
    }
  ],
  "metadata": {
    "colab": {
      "provenance": []
    },
    "kernelspec": {
      "display_name": "Python 3 (ipykernel)",
      "language": "python",
      "name": "python3"
    },
    "language_info": {
      "codemirror_mode": {
        "name": "ipython",
        "version": 3
      },
      "file_extension": ".py",
      "mimetype": "text/x-python",
      "name": "python",
      "nbconvert_exporter": "python",
      "pygments_lexer": "ipython3",
      "version": "3.10.8"
    }
  },
  "nbformat": 4,
  "nbformat_minor": 5
}
