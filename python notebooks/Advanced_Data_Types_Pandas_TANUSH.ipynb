{
  "cells": [
    {
      "cell_type": "markdown",
      "id": "eb9404cc",
      "metadata": {
        "id": "eb9404cc"
      },
      "source": [
        "\n",
        "## Tutorial: Data operations with Advanced Data Types and Pandas\n"
      ]
    },
    {
      "cell_type": "markdown",
      "id": "c06655d7",
      "metadata": {
        "id": "c06655d7"
      },
      "source": [
        "**Note:** This lab session is graded. Complete all the exercises and submit the ipynb to canvas under assignment **Tutorial: Advanced Data Types+ Libraries + Pandas ** by end of Friday (02/02/2024, 11:59PM)"
      ]
    },
    {
      "cell_type": "markdown",
      "id": "3f0582ff",
      "metadata": {
        "id": "3f0582ff"
      },
      "source": [
        "## 0. Recap\n",
        "- Last Tutorial: Introduction to Python Programing\n",
        "- Topics Covered: Variables and Data types, functions, branching (IF-ELSE), looping\n",
        "- Today's topics:\n",
        "    - Lists\n",
        "    - Dictionaries\n",
        "    - Strings\n",
        "    - Python Libraries\n",
        "    - Pandas for tabular data loading"
      ]
    },
    {
      "cell_type": "markdown",
      "id": "3dc97876",
      "metadata": {
        "id": "3dc97876"
      },
      "source": [
        "## 1. Advanced Data Types: List\n",
        "- Ordered sequence of items of mixed types\n",
        "- Can contain many data element of basic data types\n",
        "- Access through indices. Indices start with the value 0\n",
        "- Loop through \"for\" loop structure"
      ]
    },
    {
      "cell_type": "code",
      "execution_count": null,
      "id": "809988be",
      "metadata": {
        "id": "809988be",
        "outputId": "b16b915d-614e-42a3-9cbf-89658622030d",
        "colab": {
          "base_uri": "https://localhost:8080/"
        }
      },
      "outputs": [
        {
          "output_type": "stream",
          "name": "stdout",
          "text": [
            "1\n",
            "3.9\n",
            "bob\n",
            "Now printing elements in List 2\n",
            "1\n",
            "2\n",
            "3\n",
            "4\n",
            "5\n",
            "6\n",
            "['XYZ', 9.6, 'AAA', [1, 2, 3, 4, 5, 6]]\n"
          ]
        }
      ],
      "source": [
        "list1 = [1,2,3,\"bob\",3.9,True]\n",
        "list2 = [1,2,3,4,5,6]\n",
        "\n",
        "print (list1[0])\n",
        "print (list1[4])\n",
        "print (list1[3])\n",
        "\n",
        "print (\"Now printing elements in List 2\")\n",
        "for element in list2:\n",
        "    print (element)\n",
        "\n",
        "blah = \"AAA\"\n",
        "list3 = [\"XYZ\", 9.6, blah, list2]\n",
        "print (list3)"
      ]
    },
    {
      "cell_type": "markdown",
      "id": "a3f73f82",
      "metadata": {
        "id": "a3f73f82"
      },
      "source": [
        "### 1.1. List Operations:\n",
        "- Finding length of a list\n",
        "- Reversing a list\n",
        "- Sorting a list of numbers / floats\n",
        "- Inserting elements\n",
        "- Deleting elements\n",
        "- Slicing"
      ]
    },
    {
      "cell_type": "code",
      "execution_count": null,
      "id": "2c966020",
      "metadata": {
        "id": "2c966020",
        "outputId": "683fc821-248f-4e4a-ba22-565aa3069609",
        "colab": {
          "base_uri": "https://localhost:8080/"
        }
      },
      "outputs": [
        {
          "output_type": "stream",
          "name": "stdout",
          "text": [
            "6\n"
          ]
        }
      ],
      "source": [
        "# Finding length\n",
        "\n",
        "list1 = [1,2,3,4,5,6]\n",
        "\n",
        "print (len(list1))"
      ]
    },
    {
      "cell_type": "code",
      "execution_count": null,
      "id": "366d3c14",
      "metadata": {
        "id": "366d3c14",
        "outputId": "e8fee2ba-eef5-417f-b42d-cf10cf27e03c",
        "colab": {
          "base_uri": "https://localhost:8080/"
        }
      },
      "outputs": [
        {
          "output_type": "stream",
          "name": "stdout",
          "text": [
            "[6, 5, 4, 3, 2, 1]\n"
          ]
        }
      ],
      "source": [
        "# Reversing\n",
        "\n",
        "list1.reverse()\n",
        "\n",
        "print (str(list1))"
      ]
    },
    {
      "cell_type": "code",
      "execution_count": null,
      "id": "4d2b98b4",
      "metadata": {
        "id": "4d2b98b4",
        "outputId": "1e62c0b8-8016-4f0c-bbc2-c4db03de5086"
      },
      "outputs": [
        {
          "name": "stdout",
          "output_type": "stream",
          "text": [
            "[-9, 3, 9.6, 45, 200]\n",
            "[200, 45, 9.6, 3, -9]\n"
          ]
        }
      ],
      "source": [
        "# Sorting\n",
        "\n",
        "list2 = [3, 9.6, 200, -9, 45]\n",
        "\n",
        "sorted_list2_ascending = sorted(list2)\n",
        "sorted_list2_descending = sorted(list2, reverse=True)\n",
        "\n",
        "print (str(sorted_list2_ascending))\n",
        "print (str(sorted_list2_descending))"
      ]
    },
    {
      "cell_type": "code",
      "execution_count": null,
      "id": "344aa4c1",
      "metadata": {
        "id": "344aa4c1",
        "outputId": "697582b9-2f0c-4f9b-d962-abdfb6fef3e5"
      },
      "outputs": [
        {
          "name": "stdout",
          "output_type": "stream",
          "text": [
            "[1, 2]\n",
            "[1, 2, 8, 2, 5, 4, 1, 3]\n"
          ]
        }
      ],
      "source": [
        "# Inserting elements\n",
        "\n",
        "empty_list = []\n",
        "\n",
        "empty_list.append(1)\n",
        "empty_list.append(2)\n",
        "\n",
        "print (empty_list)\n",
        "\n",
        "another_list = [8,2,5,4,1,3]\n",
        "\n",
        "for element in another_list:\n",
        "    empty_list.append(element)\n",
        "\n",
        "print (empty_list)"
      ]
    },
    {
      "cell_type": "code",
      "execution_count": null,
      "id": "97c91595",
      "metadata": {
        "id": "97c91595",
        "outputId": "641bfed1-0115-42ad-9697-70b77a594a5f"
      },
      "outputs": [
        {
          "name": "stdout",
          "output_type": "stream",
          "text": [
            "[1, 2, 2, 5, 4, 1, 3]\n",
            "[1, 1, 4, 3, 2]\n"
          ]
        }
      ],
      "source": [
        "# Deleting element\n",
        "\n",
        "full_list = [1, 2, 8, 2, 5, 4, 1, 3]\n",
        "full_list.remove(8)\n",
        "\n",
        "print (full_list)"
      ]
    },
    {
      "cell_type": "code",
      "execution_count": null,
      "id": "a939a2f0",
      "metadata": {
        "id": "a939a2f0",
        "outputId": "fb34d17c-2ad9-4480-9c56-4df6c9da4ba2"
      },
      "outputs": [
        {
          "name": "stdout",
          "output_type": "stream",
          "text": [
            "[3, 9.6, 200]\n",
            "[200, -9, 45]\n",
            "[9.6, 200, -9]\n",
            "45\n"
          ]
        }
      ],
      "source": [
        "# Slicing\n",
        "\n",
        "list3 = [3, 9.6, 200, -9, 45]\n",
        "\n",
        "# extract the first five items\n",
        "sublist1 = list3[0:3]\n",
        "print (str(sublist1))\n",
        "\n",
        "# extract the items after 2nd element\n",
        "sublist2 = list3[2:]\n",
        "print (str(sublist2))\n",
        "\n",
        "# extract items from locations 2,3,4\n",
        "sublist3 = list3[1:4]\n",
        "print (str(sublist3))\n",
        "\n",
        "# extract the last element\n",
        "last_element = list3[-1]\n",
        "print (last_element)"
      ]
    },
    {
      "cell_type": "markdown",
      "id": "2328ad97",
      "metadata": {
        "id": "2328ad97"
      },
      "source": [
        "### E1. Exercise: Perform the following list operations\n",
        "- Create an empty list,\n",
        "- Add items [\"apple\",\"banana\",\"sugar\"]\n",
        "- Append items \"cookie\",\"chocolate\" to the list\n",
        "- Reverse the list and print\n",
        "- Print items from position 2 to 5 (2 inclusive and 5 exclusive)"
      ]
    },
    {
      "cell_type": "code",
      "source": [
        "list_1 = ['apple', 'banana', 'sugar']\n",
        "list_1.append('cookie')\n",
        "list_1.append('chocolate')\n",
        "\n",
        "list_1.reverse()\n",
        "print(list_1)\n",
        "\n",
        "print(list_1[1:4])"
      ],
      "metadata": {
        "colab": {
          "base_uri": "https://localhost:8080/"
        },
        "id": "pq4J54pBX8Lc",
        "outputId": "a7f0b35e-07f3-4b2a-ef8b-1d23cbaa3f84"
      },
      "id": "pq4J54pBX8Lc",
      "execution_count": null,
      "outputs": [
        {
          "output_type": "stream",
          "name": "stdout",
          "text": [
            "['chocolate', 'cookie', 'sugar', 'banana', 'apple']\n",
            "['cookie', 'sugar', 'banana']\n"
          ]
        }
      ]
    },
    {
      "cell_type": "markdown",
      "id": "ea014b8a",
      "metadata": {
        "id": "ea014b8a"
      },
      "source": [
        "## 2. Advanced Data Types: Dictionary\n",
        "- Dictionaries are used to store data values in key:value pairs.\n",
        "- Keys are always unique. Duplications not allowed\n",
        "- Both keys and values can be variables or constants"
      ]
    },
    {
      "cell_type": "code",
      "execution_count": null,
      "id": "f73bcbf8",
      "metadata": {
        "id": "f73bcbf8",
        "outputId": "d71754f5-5bc5-4448-ade8-0a36ac2a8c6c"
      },
      "outputs": [
        {
          "name": "stdout",
          "output_type": "stream",
          "text": [
            "{'abc123': 'Abigali', 'm343': 'Melissa', 'h43': 'Hue', 'ju343': 'John'}\n",
            "{1000: 3.15, 2000: 3.2}\n"
          ]
        }
      ],
      "source": [
        "# Empty dictionary\n",
        "dictionary_1 = {}\n",
        "\n",
        "# Add eids and names of students\n",
        "dictionary_1[\"abc123\"] = \"Abigali\"\n",
        "dictionary_1[\"m343\"] = \"Melissa\"\n",
        "dictionary_1[\"h43\"] = \"Hue\"\n",
        "\n",
        "# Keys and values can be variables\n",
        "a_key = \"ju343\"\n",
        "value = \"John\"\n",
        "dictionary_1[a_key] = value\n",
        "\n",
        "print (dictionary_1)\n",
        "\n",
        "\n",
        "# A dicationary can contain any basic data type as key / value\n",
        "\n",
        "dictionary_2 = {}\n",
        "\n",
        "dictionary_2[1000] = 3.15\n",
        "dictionary_2[2000] = 6.25\n",
        "dictionary_2[2000] = 3.2\n",
        "\n",
        "print (dictionary_2)\n",
        "\n"
      ]
    },
    {
      "cell_type": "code",
      "execution_count": null,
      "id": "58f86fd5",
      "metadata": {
        "id": "58f86fd5",
        "outputId": "a34df633-036d-42ca-95ee-93d7c29064ff"
      },
      "outputs": [
        {
          "name": "stdout",
          "output_type": "stream",
          "text": [
            "Hue\n",
            "Abigali\n"
          ]
        }
      ],
      "source": [
        "#Accessing information for a certain key\n",
        "\n",
        "name = dictionary_1[\"h43\"]\n",
        "print (name)\n",
        "\n",
        "some_key = \"abc123\"\n",
        "name = dictionary_1[some_key]\n",
        "print (name)"
      ]
    },
    {
      "cell_type": "code",
      "execution_count": null,
      "id": "eff1b21c",
      "metadata": {
        "id": "eff1b21c",
        "outputId": "a2873007-34db-493c-aea2-612f8ac9e500"
      },
      "outputs": [
        {
          "name": "stdout",
          "output_type": "stream",
          "text": [
            "['abc123', 'm343', 'h43', 'ju343']\n",
            "Abigali\n",
            "Melissa\n",
            "Hue\n",
            "John\n"
          ]
        }
      ],
      "source": [
        "# Access only keys and deal with them\n",
        "\n",
        "keys = dictionary_1.keys()\n",
        "\n",
        "# We are converting keys to a list\n",
        "print (list(keys))\n",
        "\n",
        "# Iterating over all keys to print only elements\n",
        "\n",
        "for key in keys:\n",
        "    print (dictionary_1[key])"
      ]
    },
    {
      "cell_type": "markdown",
      "id": "c283958b",
      "metadata": {
        "id": "c283958b"
      },
      "source": [
        "### E2. Exercise: Create a Dictionary for medicines\n",
        "- Create dictionary from the following data for symptoms:medication\n",
        "    - `\"cough\" : \"dextromethorphan\"`\n",
        "    - `\"diarrhea\": \"loperamide\"`\n",
        "    - `\"fever\": \"acetaminophen\", \"ibuprofen\"` (hint: value is a list here)\n",
        "- get the keys of the dictionary in a list\n",
        "- iterate through the keys and print the values one by one"
      ]
    },
    {
      "cell_type": "code",
      "source": [
        "symptom_dictionary = {}\n",
        "symptom_dictionary['cough'] = ['dextromethorphan']\n",
        "symptom_dictionary['diarrhea'] = ['loperamide']\n",
        "symptom_dictionary['fever'] = ['acetaminophen', 'ibuprofen']\n",
        "\n",
        "keys = symptom_dictionary.keys()\n",
        "print(list(keys))\n",
        "\n",
        "for key in keys:\n",
        "  print(symptom_dictionary[key])"
      ],
      "metadata": {
        "colab": {
          "base_uri": "https://localhost:8080/"
        },
        "id": "AYQRkPVBYED4",
        "outputId": "24963e9d-88f6-4058-92fd-4497b032c0f5"
      },
      "id": "AYQRkPVBYED4",
      "execution_count": null,
      "outputs": [
        {
          "output_type": "stream",
          "name": "stdout",
          "text": [
            "['cough', 'diarrhea', 'fever']\n",
            "['dextromethorphan']\n",
            "['loperamide']\n",
            "['acetaminophen', 'ibuprofen']\n"
          ]
        }
      ]
    },
    {
      "cell_type": "markdown",
      "id": "27a2a41b",
      "metadata": {
        "id": "27a2a41b"
      },
      "source": [
        "## 3. Advanced Data Types: Strings\n",
        "- Free flowing text surrounded by quotes (both single and double quotes acceptable)\n",
        "- Whenever a variable stores a string, it becomes capable of certain string operations\n",
        "- We can insert newlines and tabs in strings through special characters, a.k.a escape sequences\n",
        "- We can convert / cast a basic variable into string through the generic function `str()`\n",
        "- We can concatanate strings using `+` operator\n",
        "\n"
      ]
    },
    {
      "cell_type": "code",
      "execution_count": null,
      "id": "edb14696",
      "metadata": {
        "id": "edb14696",
        "outputId": "5131f21b-0fca-42cf-f5c6-4dc4483ed11f"
      },
      "outputs": [
        {
          "name": "stdout",
          "output_type": "stream",
          "text": [
            "hello world\n",
            "hello world\n",
            "What's going on?\t OK\n",
            "1234\n",
            "hello world1234\n"
          ]
        }
      ],
      "source": [
        "string1 = \"hello world\"\n",
        "print (string1)\n",
        "\n",
        "string2 = \"hello world\\nWhat's going on?\\t OK\"\n",
        "print (string2)\n",
        "\n",
        "string3 = str(1234)\n",
        "print (string3)\n",
        "\n",
        "string4 = string1+string3\n",
        "print (string4)\n"
      ]
    },
    {
      "cell_type": "markdown",
      "id": "d73ad1d0",
      "metadata": {
        "id": "d73ad1d0"
      },
      "source": [
        "### 3.1 String Operations\n",
        "- Slicing and extracting substrings\n",
        "- Replacing\n",
        "- Searching through conditions\n",
        "- Splitting and looping\n",
        "- Joining strings"
      ]
    },
    {
      "cell_type": "code",
      "execution_count": null,
      "id": "783a6f57",
      "metadata": {
        "id": "783a6f57",
        "outputId": "5c285f1e-009a-463f-cccd-8a32dd5725e1"
      },
      "outputs": [
        {
          "name": "stdout",
          "output_type": "stream",
          "text": [
            "come t\n"
          ]
        }
      ],
      "source": [
        "string1 = \"Welcome to data science 101\"\n",
        "\n",
        "# Slice and get substring from range 3 to 9\n",
        "string1_sliced = string1[3:9]\n",
        "print (string1_sliced)"
      ]
    },
    {
      "cell_type": "code",
      "execution_count": null,
      "id": "e6241769",
      "metadata": {
        "id": "e6241769",
        "outputId": "996e36d3-b311-4553-804a-bc20552b4b62"
      },
      "outputs": [
        {
          "name": "stdout",
          "output_type": "stream",
          "text": [
            "Welcome to machine learning 101\n",
            "scripting aims at writing scripts and a script is a block of code\n",
            "scripting aims at writing scripts and a program is a block of code\n"
          ]
        }
      ],
      "source": [
        "string2 = \"Welcome to data science 101\"\n",
        "string2_replaced = string2.replace(\"data science\", \"machine learning\")\n",
        "\n",
        "print (string2_replaced)\n",
        "\n",
        "# Replacing all occurrence of a match\n",
        "string3 = \"programing aims at writing programs and a program is a block of code\"\n",
        "string3_replaced = string3.replace(\"program\", \"script\")\n",
        "print (string3_replaced)\n",
        "\n",
        "# Replacing only the first N occurrences at a certain position\n",
        "string4 = \"programing aims at writing programs and a program is a block of code\"\n",
        "string4_replaced = string3.replace(\"program\", \"script\",2)\n",
        "print (string4_replaced)"
      ]
    },
    {
      "cell_type": "code",
      "execution_count": null,
      "id": "be215b77",
      "metadata": {
        "id": "be215b77",
        "outputId": "50af4bc2-d709-4bc4-c9e1-7fd78b010e1c"
      },
      "outputs": [
        {
          "name": "stdout",
          "output_type": "stream",
          "text": [
            "Yes, python is present in the original string: We are covering python basics\n",
            "No, javascript is  not present in the original string: We are covering python basics\n"
          ]
        }
      ],
      "source": [
        "# Search for a match\n",
        "string5 = \"We are covering python basics\"\n",
        "another_string = \"python\"\n",
        "\n",
        "if another_string in string5:\n",
        "    print (f\"Yes, {another_string} is present in the original string: {string5}\")\n",
        "else:\n",
        "    print (f\"No, {another_string} is  not present in the original string: {string5}\")\n",
        "\n",
        "yet_another_string = \"javascript\"\n",
        "\n",
        "if yet_another_string in string5:\n",
        "    print (f\"Yes, {yet_another_string} is present in the original string: {string5}\")\n",
        "else:\n",
        "    print (f\"No, {yet_another_string} is  not present in the original string: {string5}\")\n"
      ]
    },
    {
      "cell_type": "code",
      "execution_count": null,
      "id": "129c0cd7",
      "metadata": {
        "id": "129c0cd7",
        "outputId": "5ccb609a-ec42-4360-fe87-128c529f542c",
        "colab": {
          "base_uri": "https://localhost:8080/"
        }
      },
      "outputs": [
        {
          "output_type": "stream",
          "name": "stdout",
          "text": [
            "['We are ', ' python basics']\n",
            "['We', 'are', 'covering', 'python', 'basics']\n",
            "We\n",
            "are\n",
            "covering\n",
            "python\n",
            "basics\n"
          ]
        }
      ],
      "source": [
        "# Splitting and looping\n",
        "\n",
        "string5 = \"We are covering python basics\"\n",
        "\n",
        "# split by a word \"covering\"\n",
        "list_containing_splits = string5.split(\"covering\")\n",
        "print (list_containing_splits)\n",
        "\n",
        "# split by <SPACE>\n",
        "list_containing_splits = string5.split(\" \")\n",
        "print (list_containing_splits)\n",
        "\n",
        "# looping over the list and printing words\n",
        "for word in list_containing_splits:\n",
        "  print (word)"
      ]
    },
    {
      "cell_type": "code",
      "execution_count": null,
      "id": "a1f8c336",
      "metadata": {
        "id": "a1f8c336",
        "outputId": "4e7366f8-5c3f-448c-d13e-5219a4bb1e9f"
      },
      "outputs": [
        {
          "name": "stdout",
          "output_type": "stream",
          "text": [
            "the quick brown fox\n",
            "the,quick,brown,fox\n"
          ]
        }
      ],
      "source": [
        "# Joining a list of strings by a common delimeter\n",
        "\n",
        "list_of_words = [\"the\", \"quick\", \"brown\", \"fox\"]\n",
        "string_from_list_of_words = \" \".join(list_of_words)\n",
        "\n",
        "print (string_from_list_of_words)\n",
        "\n",
        "comma_separated_string_from_list_of_words = \",\".join(list_of_words)\n",
        "print (comma_separated_string_from_list_of_words)"
      ]
    },
    {
      "cell_type": "markdown",
      "id": "fc7c7172",
      "metadata": {
        "id": "fc7c7172"
      },
      "source": [
        "### E3. Exercise: Carry out the following string operations\n",
        "- Create a string \"Data science is the eye whereas computer science is the body\"\n",
        "- Now, replace all occurences of \"science\" with \"engineering\". Print the resultant string\n",
        "- Split the resultant string by \"space\" to form a list\n",
        "- Print the list"
      ]
    },
    {
      "cell_type": "code",
      "source": [
        "string_1 = 'Data science is the eye whereas computer science is the body'\n",
        "replacement = string_1.replace('science', 'engineering')\n",
        "print(replacement)\n",
        "replacement_list = replacement.split(' ')\n",
        "print(replacement_list)\n"
      ],
      "metadata": {
        "colab": {
          "base_uri": "https://localhost:8080/"
        },
        "id": "V8E393_PYGix",
        "outputId": "4cff786f-775a-4237-a427-bb1b504afbdb"
      },
      "id": "V8E393_PYGix",
      "execution_count": null,
      "outputs": [
        {
          "output_type": "stream",
          "name": "stdout",
          "text": [
            "Data engineering is the eye whereas computer engineering is the body\n",
            "['Data', 'engineering', 'is', 'the', 'eye', 'whereas', 'computer', 'engineering', 'is', 'the', 'body']\n"
          ]
        }
      ]
    },
    {
      "cell_type": "markdown",
      "source": [
        "## 4. Python Libraries\n",
        "- Collection of different modules\n",
        "- Modules contain bundle of codes that can be repeatedly used in other programs\n",
        "- Typically the library code are available through functions\n",
        "- You should always check documentation and examples provided by the library"
      ],
      "metadata": {
        "id": "-JbF8ydGfw-y"
      },
      "id": "-JbF8ydGfw-y"
    },
    {
      "cell_type": "code",
      "source": [
        "# Generate a random number between 1, 100\n",
        "\n",
        "import random\n",
        "\n",
        "print (random.randint(1,100))\n",
        "\n",
        "# Compute logarithm of a nuber\n",
        "\n",
        "import math\n",
        "\n",
        "print (math.log(100))\n",
        "print (math.log(100, 10))\n",
        "\n",
        "from random import randint\n",
        "print (randint(1,100))"
      ],
      "metadata": {
        "id": "SDIwX19lbKXy"
      },
      "id": "SDIwX19lbKXy",
      "execution_count": null,
      "outputs": []
    },
    {
      "cell_type": "markdown",
      "source": [
        "## 5. Reading a file in Python\n",
        "Let's read a sample text file in Python and manipulate it's contents\n",
        "\n",
        "We do not have to use any library here. Python provides inbuilt functions to read / write files"
      ],
      "metadata": {
        "id": "iJvRji3sbg9j"
      },
      "id": "iJvRji3sbg9j"
    },
    {
      "cell_type": "code",
      "source": [
        "# We read the file line by line and store as list\n",
        "\n",
        "file_content = []\n",
        "with open(\"sample_text.txt\",\"r\") as file:\n",
        "    for line in file:\n",
        "        print (line)\n",
        "        file_content.append(line)\n",
        "\n",
        "print (file_content)\n",
        "\n",
        "# We can now do list operations such as slicing, reversing, manipulating elements\n",
        "# Now let's reverse the file_content\n",
        "file_content.reverse()\n",
        "print (file_content)\n",
        "\n",
        "# And write back to a new file\n",
        "with open(\"file_reversed.txt\",\"w\") as file_to_write:\n",
        "    for line in file_content:\n",
        "        file_to_write.write(line)"
      ],
      "metadata": {
        "id": "QxFZa6Tvb0oQ"
      },
      "id": "QxFZa6Tvb0oQ",
      "execution_count": null,
      "outputs": []
    },
    {
      "cell_type": "markdown",
      "source": [
        "## Exercise E4: File reading\n",
        "\n",
        "- Copy the first paragrap of https://en.wikipedia.org/wiki/Data_science . Store it in a text file and name it \"ds.txt\"\n",
        "\n",
        "- Upload ds.txt to colab and read the content of the file into a list\n",
        "\n",
        "- Print the list"
      ],
      "metadata": {
        "id": "un_YUMpW5swZ"
      },
      "id": "un_YUMpW5swZ"
    },
    {
      "cell_type": "code",
      "source": [
        "ds_content = []\n",
        "with open(\"ds.txt\",\"r\") as file:\n",
        "  for line in file:\n",
        "    line = line.replace('\\xa0', ' ')\n",
        "    ds_content.append(line)\n",
        "print(ds_content)"
      ],
      "metadata": {
        "colab": {
          "base_uri": "https://localhost:8080/"
        },
        "id": "Z6K7ir67YKkr",
        "outputId": "7a861859-1255-422e-dbb9-4571af7d709d"
      },
      "id": "Z6K7ir67YKkr",
      "execution_count": null,
      "outputs": [
        {
          "output_type": "stream",
          "name": "stdout",
          "text": [
            "['Data science is an interdisciplinary academic field[1] that uses statistics, scientific computing, scientific methods, processes, algorithms and systems to extract or extrapolate knowledge and insights from potentially noisy, structured, or unstructured data.[2]']\n"
          ]
        }
      ]
    },
    {
      "cell_type": "markdown",
      "source": [
        "## 4. Loading and Processing Numerical Data in Tables\n",
        "- Tables can be represented in various formats: Comma Separated (CSV), Tab Separated, Excel, Parquet, DataFrames\n",
        "- Generally CSV formats are preferred due to their better readability\n",
        "- We use pandas libraries to load and process data in tabular format\n",
        "- Install pandas if you hit error \"No module named pandas\"\n",
        "    - Install by executing `!pip instal pandas`"
      ],
      "metadata": {
        "id": "Q3uhVXV96HiW"
      },
      "id": "Q3uhVXV96HiW"
    },
    {
      "cell_type": "code",
      "source": [
        "import pandas\n",
        "\n",
        "# Load the CSV file into a DataFrame\n",
        "df = pandas.read_csv(\"sample_salary_data.csv\")\n",
        "\n",
        "# Display some rows from the DataFrame\n",
        "df.head()"
      ],
      "metadata": {
        "id": "w3K3wWTR6FLR"
      },
      "id": "w3K3wWTR6FLR",
      "execution_count": null,
      "outputs": []
    },
    {
      "cell_type": "markdown",
      "source": [
        "Let's try to access some elements from the DataFrame now"
      ],
      "metadata": {
        "id": "pIxPOKsK6UVT"
      },
      "id": "pIxPOKsK6UVT"
    },
    {
      "cell_type": "code",
      "source": [
        "print (df[\"Age\"])\n",
        "\n",
        "# Convert the column to list\n",
        "\n",
        "salary = df[\"Salary\"].tolist()\n",
        "\n",
        "print (salary)"
      ],
      "metadata": {
        "id": "JI74SLkL6YIe"
      },
      "id": "JI74SLkL6YIe",
      "execution_count": null,
      "outputs": []
    },
    {
      "cell_type": "markdown",
      "source": [
        "# Exercise E5: Load a tabular data from a Microsoft Excel file\n",
        "\n",
        "- Load the data in `sample_product_data.xlsx` (Download from **Canvas->Files>Week3**) into a dataframe. Hint: use `pd.read_excel(\"sample_salary_data.csv\")`.\n",
        "\n",
        "- Convert the price and quantity columns into lists. Print the lists.\n",
        "\n",
        "- Compute the average price and quantity. Use the formula `sum(l)/len(l)` to compute the average of a list named `l`.\n",
        "\n",
        "- Now find out which product has the maximum price.\n",
        "\n"
      ],
      "metadata": {
        "id": "cTyhVY6m513s"
      },
      "id": "cTyhVY6m513s"
    },
    {
      "cell_type": "code",
      "source": [
        "import pandas as pd\n",
        "\n",
        "dataframe = pd.read_excel(\"sample_product_data.xlsx\")\n",
        "\n",
        "price = dataframe[\"Price\"].tolist()\n",
        "quantity = dataframe[\"Quantity\"].tolist()\n",
        "product = dataframe[\"Product\"]\n",
        "\n",
        "\n",
        "print(price)\n",
        "print(quantity)\n",
        "\n",
        "average_price = sum(price)/len(price)\n",
        "average_quantity = sum(quantity)/len(quantity)\n",
        "print(average_price)\n",
        "print(average_quantity)\n",
        "\n",
        "maximum_price = max(price)\n",
        "counter = 0\n",
        "for prod_name in product:\n",
        "  if price[counter] == maximum_price:\n",
        "    print(prod_name)\n",
        "  counter += 1\n",
        "\n"
      ],
      "metadata": {
        "colab": {
          "base_uri": "https://localhost:8080/"
        },
        "id": "jkuMA7kFYOpX",
        "outputId": "7a8eb3e6-69c0-45c5-9a87-b809768fed14"
      },
      "id": "jkuMA7kFYOpX",
      "execution_count": null,
      "outputs": [
        {
          "output_type": "stream",
          "name": "stdout",
          "text": [
            "[1200, 800, 100, 15, 50, 150, 20, 30, 80, 75]\n",
            "[10, 20, 50, 100, 30, 15, 80, 40, 12, 25]\n",
            "252.0\n",
            "38.2\n",
            "Laptop\n"
          ]
        }
      ]
    },
    {
      "cell_type": "markdown",
      "source": [
        "# 6. Some more DataFrame concepts\n",
        "\n",
        "## 6.1. Creating a dataframe from a Dictionary\n",
        "Let's create a dataframe from a dictionary.\n",
        "\n",
        "We define a list of lists named `data`. Each inner list represents a row of data, where the first element is the name, the second is the age, and the third is the city."
      ],
      "metadata": {
        "id": "km9n-me3wpKU"
      },
      "id": "km9n-me3wpKU"
    },
    {
      "cell_type": "code",
      "source": [
        "import pandas\n",
        "\n",
        "data = {'Name': ['John', 'Alice', 'Bob'],\n",
        "        'Age': [25, 30, 22],\n",
        "        'City': ['New York', 'San Francisco', 'Los Angeles']}\n",
        "\n",
        "df = pandas.DataFrame(data)\n",
        "\n",
        "df.head()"
      ],
      "metadata": {
        "colab": {
          "base_uri": "https://localhost:8080/",
          "height": 160
        },
        "id": "qNX5AkOYw7o5",
        "outputId": "63893b68-9468-40b6-e362-0b7c5ac35fe6"
      },
      "id": "qNX5AkOYw7o5",
      "execution_count": null,
      "outputs": [
        {
          "output_type": "execute_result",
          "data": {
            "text/plain": [
              "    Name  Age           City\n",
              "0   John   25       New York\n",
              "1  Alice   30  San Francisco\n",
              "2    Bob   22    Los Angeles"
            ],
            "text/html": [
              "\n",
              "  <div id=\"df-493fe25a-a525-4a5e-bbb0-613b67d9b9eb\" class=\"colab-df-container\">\n",
              "    <div>\n",
              "<style scoped>\n",
              "    .dataframe tbody tr th:only-of-type {\n",
              "        vertical-align: middle;\n",
              "    }\n",
              "\n",
              "    .dataframe tbody tr th {\n",
              "        vertical-align: top;\n",
              "    }\n",
              "\n",
              "    .dataframe thead th {\n",
              "        text-align: right;\n",
              "    }\n",
              "</style>\n",
              "<table border=\"1\" class=\"dataframe\">\n",
              "  <thead>\n",
              "    <tr style=\"text-align: right;\">\n",
              "      <th></th>\n",
              "      <th>Name</th>\n",
              "      <th>Age</th>\n",
              "      <th>City</th>\n",
              "    </tr>\n",
              "  </thead>\n",
              "  <tbody>\n",
              "    <tr>\n",
              "      <th>0</th>\n",
              "      <td>John</td>\n",
              "      <td>25</td>\n",
              "      <td>New York</td>\n",
              "    </tr>\n",
              "    <tr>\n",
              "      <th>1</th>\n",
              "      <td>Alice</td>\n",
              "      <td>30</td>\n",
              "      <td>San Francisco</td>\n",
              "    </tr>\n",
              "    <tr>\n",
              "      <th>2</th>\n",
              "      <td>Bob</td>\n",
              "      <td>22</td>\n",
              "      <td>Los Angeles</td>\n",
              "    </tr>\n",
              "  </tbody>\n",
              "</table>\n",
              "</div>\n",
              "    <div class=\"colab-df-buttons\">\n",
              "\n",
              "  <div class=\"colab-df-container\">\n",
              "    <button class=\"colab-df-convert\" onclick=\"convertToInteractive('df-493fe25a-a525-4a5e-bbb0-613b67d9b9eb')\"\n",
              "            title=\"Convert this dataframe to an interactive table.\"\n",
              "            style=\"display:none;\">\n",
              "\n",
              "  <svg xmlns=\"http://www.w3.org/2000/svg\" height=\"24px\" viewBox=\"0 -960 960 960\">\n",
              "    <path d=\"M120-120v-720h720v720H120Zm60-500h600v-160H180v160Zm220 220h160v-160H400v160Zm0 220h160v-160H400v160ZM180-400h160v-160H180v160Zm440 0h160v-160H620v160ZM180-180h160v-160H180v160Zm440 0h160v-160H620v160Z\"/>\n",
              "  </svg>\n",
              "    </button>\n",
              "\n",
              "  <style>\n",
              "    .colab-df-container {\n",
              "      display:flex;\n",
              "      gap: 12px;\n",
              "    }\n",
              "\n",
              "    .colab-df-convert {\n",
              "      background-color: #E8F0FE;\n",
              "      border: none;\n",
              "      border-radius: 50%;\n",
              "      cursor: pointer;\n",
              "      display: none;\n",
              "      fill: #1967D2;\n",
              "      height: 32px;\n",
              "      padding: 0 0 0 0;\n",
              "      width: 32px;\n",
              "    }\n",
              "\n",
              "    .colab-df-convert:hover {\n",
              "      background-color: #E2EBFA;\n",
              "      box-shadow: 0px 1px 2px rgba(60, 64, 67, 0.3), 0px 1px 3px 1px rgba(60, 64, 67, 0.15);\n",
              "      fill: #174EA6;\n",
              "    }\n",
              "\n",
              "    .colab-df-buttons div {\n",
              "      margin-bottom: 4px;\n",
              "    }\n",
              "\n",
              "    [theme=dark] .colab-df-convert {\n",
              "      background-color: #3B4455;\n",
              "      fill: #D2E3FC;\n",
              "    }\n",
              "\n",
              "    [theme=dark] .colab-df-convert:hover {\n",
              "      background-color: #434B5C;\n",
              "      box-shadow: 0px 1px 3px 1px rgba(0, 0, 0, 0.15);\n",
              "      filter: drop-shadow(0px 1px 2px rgba(0, 0, 0, 0.3));\n",
              "      fill: #FFFFFF;\n",
              "    }\n",
              "  </style>\n",
              "\n",
              "    <script>\n",
              "      const buttonEl =\n",
              "        document.querySelector('#df-493fe25a-a525-4a5e-bbb0-613b67d9b9eb button.colab-df-convert');\n",
              "      buttonEl.style.display =\n",
              "        google.colab.kernel.accessAllowed ? 'block' : 'none';\n",
              "\n",
              "      async function convertToInteractive(key) {\n",
              "        const element = document.querySelector('#df-493fe25a-a525-4a5e-bbb0-613b67d9b9eb');\n",
              "        const dataTable =\n",
              "          await google.colab.kernel.invokeFunction('convertToInteractive',\n",
              "                                                    [key], {});\n",
              "        if (!dataTable) return;\n",
              "\n",
              "        const docLinkHtml = 'Like what you see? Visit the ' +\n",
              "          '<a target=\"_blank\" href=https://colab.research.google.com/notebooks/data_table.ipynb>data table notebook</a>'\n",
              "          + ' to learn more about interactive tables.';\n",
              "        element.innerHTML = '';\n",
              "        dataTable['output_type'] = 'display_data';\n",
              "        await google.colab.output.renderOutput(dataTable, element);\n",
              "        const docLink = document.createElement('div');\n",
              "        docLink.innerHTML = docLinkHtml;\n",
              "        element.appendChild(docLink);\n",
              "      }\n",
              "    </script>\n",
              "  </div>\n",
              "\n",
              "\n",
              "<div id=\"df-901a1e6b-8159-428e-99b9-a671ab5e0845\">\n",
              "  <button class=\"colab-df-quickchart\" onclick=\"quickchart('df-901a1e6b-8159-428e-99b9-a671ab5e0845')\"\n",
              "            title=\"Suggest charts\"\n",
              "            style=\"display:none;\">\n",
              "\n",
              "<svg xmlns=\"http://www.w3.org/2000/svg\" height=\"24px\"viewBox=\"0 0 24 24\"\n",
              "     width=\"24px\">\n",
              "    <g>\n",
              "        <path d=\"M19 3H5c-1.1 0-2 .9-2 2v14c0 1.1.9 2 2 2h14c1.1 0 2-.9 2-2V5c0-1.1-.9-2-2-2zM9 17H7v-7h2v7zm4 0h-2V7h2v10zm4 0h-2v-4h2v4z\"/>\n",
              "    </g>\n",
              "</svg>\n",
              "  </button>\n",
              "\n",
              "<style>\n",
              "  .colab-df-quickchart {\n",
              "      --bg-color: #E8F0FE;\n",
              "      --fill-color: #1967D2;\n",
              "      --hover-bg-color: #E2EBFA;\n",
              "      --hover-fill-color: #174EA6;\n",
              "      --disabled-fill-color: #AAA;\n",
              "      --disabled-bg-color: #DDD;\n",
              "  }\n",
              "\n",
              "  [theme=dark] .colab-df-quickchart {\n",
              "      --bg-color: #3B4455;\n",
              "      --fill-color: #D2E3FC;\n",
              "      --hover-bg-color: #434B5C;\n",
              "      --hover-fill-color: #FFFFFF;\n",
              "      --disabled-bg-color: #3B4455;\n",
              "      --disabled-fill-color: #666;\n",
              "  }\n",
              "\n",
              "  .colab-df-quickchart {\n",
              "    background-color: var(--bg-color);\n",
              "    border: none;\n",
              "    border-radius: 50%;\n",
              "    cursor: pointer;\n",
              "    display: none;\n",
              "    fill: var(--fill-color);\n",
              "    height: 32px;\n",
              "    padding: 0;\n",
              "    width: 32px;\n",
              "  }\n",
              "\n",
              "  .colab-df-quickchart:hover {\n",
              "    background-color: var(--hover-bg-color);\n",
              "    box-shadow: 0 1px 2px rgba(60, 64, 67, 0.3), 0 1px 3px 1px rgba(60, 64, 67, 0.15);\n",
              "    fill: var(--button-hover-fill-color);\n",
              "  }\n",
              "\n",
              "  .colab-df-quickchart-complete:disabled,\n",
              "  .colab-df-quickchart-complete:disabled:hover {\n",
              "    background-color: var(--disabled-bg-color);\n",
              "    fill: var(--disabled-fill-color);\n",
              "    box-shadow: none;\n",
              "  }\n",
              "\n",
              "  .colab-df-spinner {\n",
              "    border: 2px solid var(--fill-color);\n",
              "    border-color: transparent;\n",
              "    border-bottom-color: var(--fill-color);\n",
              "    animation:\n",
              "      spin 1s steps(1) infinite;\n",
              "  }\n",
              "\n",
              "  @keyframes spin {\n",
              "    0% {\n",
              "      border-color: transparent;\n",
              "      border-bottom-color: var(--fill-color);\n",
              "      border-left-color: var(--fill-color);\n",
              "    }\n",
              "    20% {\n",
              "      border-color: transparent;\n",
              "      border-left-color: var(--fill-color);\n",
              "      border-top-color: var(--fill-color);\n",
              "    }\n",
              "    30% {\n",
              "      border-color: transparent;\n",
              "      border-left-color: var(--fill-color);\n",
              "      border-top-color: var(--fill-color);\n",
              "      border-right-color: var(--fill-color);\n",
              "    }\n",
              "    40% {\n",
              "      border-color: transparent;\n",
              "      border-right-color: var(--fill-color);\n",
              "      border-top-color: var(--fill-color);\n",
              "    }\n",
              "    60% {\n",
              "      border-color: transparent;\n",
              "      border-right-color: var(--fill-color);\n",
              "    }\n",
              "    80% {\n",
              "      border-color: transparent;\n",
              "      border-right-color: var(--fill-color);\n",
              "      border-bottom-color: var(--fill-color);\n",
              "    }\n",
              "    90% {\n",
              "      border-color: transparent;\n",
              "      border-bottom-color: var(--fill-color);\n",
              "    }\n",
              "  }\n",
              "</style>\n",
              "\n",
              "  <script>\n",
              "    async function quickchart(key) {\n",
              "      const quickchartButtonEl =\n",
              "        document.querySelector('#' + key + ' button');\n",
              "      quickchartButtonEl.disabled = true;  // To prevent multiple clicks.\n",
              "      quickchartButtonEl.classList.add('colab-df-spinner');\n",
              "      try {\n",
              "        const charts = await google.colab.kernel.invokeFunction(\n",
              "            'suggestCharts', [key], {});\n",
              "      } catch (error) {\n",
              "        console.error('Error during call to suggestCharts:', error);\n",
              "      }\n",
              "      quickchartButtonEl.classList.remove('colab-df-spinner');\n",
              "      quickchartButtonEl.classList.add('colab-df-quickchart-complete');\n",
              "    }\n",
              "    (() => {\n",
              "      let quickchartButtonEl =\n",
              "        document.querySelector('#df-901a1e6b-8159-428e-99b9-a671ab5e0845 button');\n",
              "      quickchartButtonEl.style.display =\n",
              "        google.colab.kernel.accessAllowed ? 'block' : 'none';\n",
              "    })();\n",
              "  </script>\n",
              "</div>\n",
              "\n",
              "    </div>\n",
              "  </div>\n"
            ]
          },
          "metadata": {},
          "execution_count": 1
        }
      ]
    },
    {
      "cell_type": "markdown",
      "source": [
        "## 6.2. Creating a DataFrame from a list of list"
      ],
      "metadata": {
        "id": "NP7gRCxqxbGi"
      },
      "id": "NP7gRCxqxbGi"
    },
    {
      "cell_type": "code",
      "source": [
        "data = [\n",
        "    ['John', 25, 'New York'],\n",
        "    ['Alice', 30, 'San Francisco'],\n",
        "    ['Bob', 22, 'Los Angeles']\n",
        "]\n",
        "\n",
        "columns = ['Name', 'Age', 'City']\n",
        "df = pandas.DataFrame(data, columns=columns)\n",
        "\n",
        "df.head()"
      ],
      "metadata": {
        "colab": {
          "base_uri": "https://localhost:8080/",
          "height": 160
        },
        "id": "zkF3AzaqxpRq",
        "outputId": "afa2fe54-7dff-48e4-b012-bdae0655e3d2"
      },
      "id": "zkF3AzaqxpRq",
      "execution_count": null,
      "outputs": [
        {
          "output_type": "execute_result",
          "data": {
            "text/plain": [
              "    Name  Age           City\n",
              "0   John   25       New York\n",
              "1  Alice   30  San Francisco\n",
              "2    Bob   22    Los Angeles"
            ],
            "text/html": [
              "\n",
              "  <div id=\"df-9bbe2565-3a9f-4d76-9f87-519ab124db79\" class=\"colab-df-container\">\n",
              "    <div>\n",
              "<style scoped>\n",
              "    .dataframe tbody tr th:only-of-type {\n",
              "        vertical-align: middle;\n",
              "    }\n",
              "\n",
              "    .dataframe tbody tr th {\n",
              "        vertical-align: top;\n",
              "    }\n",
              "\n",
              "    .dataframe thead th {\n",
              "        text-align: right;\n",
              "    }\n",
              "</style>\n",
              "<table border=\"1\" class=\"dataframe\">\n",
              "  <thead>\n",
              "    <tr style=\"text-align: right;\">\n",
              "      <th></th>\n",
              "      <th>Name</th>\n",
              "      <th>Age</th>\n",
              "      <th>City</th>\n",
              "    </tr>\n",
              "  </thead>\n",
              "  <tbody>\n",
              "    <tr>\n",
              "      <th>0</th>\n",
              "      <td>John</td>\n",
              "      <td>25</td>\n",
              "      <td>New York</td>\n",
              "    </tr>\n",
              "    <tr>\n",
              "      <th>1</th>\n",
              "      <td>Alice</td>\n",
              "      <td>30</td>\n",
              "      <td>San Francisco</td>\n",
              "    </tr>\n",
              "    <tr>\n",
              "      <th>2</th>\n",
              "      <td>Bob</td>\n",
              "      <td>22</td>\n",
              "      <td>Los Angeles</td>\n",
              "    </tr>\n",
              "  </tbody>\n",
              "</table>\n",
              "</div>\n",
              "    <div class=\"colab-df-buttons\">\n",
              "\n",
              "  <div class=\"colab-df-container\">\n",
              "    <button class=\"colab-df-convert\" onclick=\"convertToInteractive('df-9bbe2565-3a9f-4d76-9f87-519ab124db79')\"\n",
              "            title=\"Convert this dataframe to an interactive table.\"\n",
              "            style=\"display:none;\">\n",
              "\n",
              "  <svg xmlns=\"http://www.w3.org/2000/svg\" height=\"24px\" viewBox=\"0 -960 960 960\">\n",
              "    <path d=\"M120-120v-720h720v720H120Zm60-500h600v-160H180v160Zm220 220h160v-160H400v160Zm0 220h160v-160H400v160ZM180-400h160v-160H180v160Zm440 0h160v-160H620v160ZM180-180h160v-160H180v160Zm440 0h160v-160H620v160Z\"/>\n",
              "  </svg>\n",
              "    </button>\n",
              "\n",
              "  <style>\n",
              "    .colab-df-container {\n",
              "      display:flex;\n",
              "      gap: 12px;\n",
              "    }\n",
              "\n",
              "    .colab-df-convert {\n",
              "      background-color: #E8F0FE;\n",
              "      border: none;\n",
              "      border-radius: 50%;\n",
              "      cursor: pointer;\n",
              "      display: none;\n",
              "      fill: #1967D2;\n",
              "      height: 32px;\n",
              "      padding: 0 0 0 0;\n",
              "      width: 32px;\n",
              "    }\n",
              "\n",
              "    .colab-df-convert:hover {\n",
              "      background-color: #E2EBFA;\n",
              "      box-shadow: 0px 1px 2px rgba(60, 64, 67, 0.3), 0px 1px 3px 1px rgba(60, 64, 67, 0.15);\n",
              "      fill: #174EA6;\n",
              "    }\n",
              "\n",
              "    .colab-df-buttons div {\n",
              "      margin-bottom: 4px;\n",
              "    }\n",
              "\n",
              "    [theme=dark] .colab-df-convert {\n",
              "      background-color: #3B4455;\n",
              "      fill: #D2E3FC;\n",
              "    }\n",
              "\n",
              "    [theme=dark] .colab-df-convert:hover {\n",
              "      background-color: #434B5C;\n",
              "      box-shadow: 0px 1px 3px 1px rgba(0, 0, 0, 0.15);\n",
              "      filter: drop-shadow(0px 1px 2px rgba(0, 0, 0, 0.3));\n",
              "      fill: #FFFFFF;\n",
              "    }\n",
              "  </style>\n",
              "\n",
              "    <script>\n",
              "      const buttonEl =\n",
              "        document.querySelector('#df-9bbe2565-3a9f-4d76-9f87-519ab124db79 button.colab-df-convert');\n",
              "      buttonEl.style.display =\n",
              "        google.colab.kernel.accessAllowed ? 'block' : 'none';\n",
              "\n",
              "      async function convertToInteractive(key) {\n",
              "        const element = document.querySelector('#df-9bbe2565-3a9f-4d76-9f87-519ab124db79');\n",
              "        const dataTable =\n",
              "          await google.colab.kernel.invokeFunction('convertToInteractive',\n",
              "                                                    [key], {});\n",
              "        if (!dataTable) return;\n",
              "\n",
              "        const docLinkHtml = 'Like what you see? Visit the ' +\n",
              "          '<a target=\"_blank\" href=https://colab.research.google.com/notebooks/data_table.ipynb>data table notebook</a>'\n",
              "          + ' to learn more about interactive tables.';\n",
              "        element.innerHTML = '';\n",
              "        dataTable['output_type'] = 'display_data';\n",
              "        await google.colab.output.renderOutput(dataTable, element);\n",
              "        const docLink = document.createElement('div');\n",
              "        docLink.innerHTML = docLinkHtml;\n",
              "        element.appendChild(docLink);\n",
              "      }\n",
              "    </script>\n",
              "  </div>\n",
              "\n",
              "\n",
              "<div id=\"df-4e6794e9-290b-45b4-b55d-f9d6e502557c\">\n",
              "  <button class=\"colab-df-quickchart\" onclick=\"quickchart('df-4e6794e9-290b-45b4-b55d-f9d6e502557c')\"\n",
              "            title=\"Suggest charts\"\n",
              "            style=\"display:none;\">\n",
              "\n",
              "<svg xmlns=\"http://www.w3.org/2000/svg\" height=\"24px\"viewBox=\"0 0 24 24\"\n",
              "     width=\"24px\">\n",
              "    <g>\n",
              "        <path d=\"M19 3H5c-1.1 0-2 .9-2 2v14c0 1.1.9 2 2 2h14c1.1 0 2-.9 2-2V5c0-1.1-.9-2-2-2zM9 17H7v-7h2v7zm4 0h-2V7h2v10zm4 0h-2v-4h2v4z\"/>\n",
              "    </g>\n",
              "</svg>\n",
              "  </button>\n",
              "\n",
              "<style>\n",
              "  .colab-df-quickchart {\n",
              "      --bg-color: #E8F0FE;\n",
              "      --fill-color: #1967D2;\n",
              "      --hover-bg-color: #E2EBFA;\n",
              "      --hover-fill-color: #174EA6;\n",
              "      --disabled-fill-color: #AAA;\n",
              "      --disabled-bg-color: #DDD;\n",
              "  }\n",
              "\n",
              "  [theme=dark] .colab-df-quickchart {\n",
              "      --bg-color: #3B4455;\n",
              "      --fill-color: #D2E3FC;\n",
              "      --hover-bg-color: #434B5C;\n",
              "      --hover-fill-color: #FFFFFF;\n",
              "      --disabled-bg-color: #3B4455;\n",
              "      --disabled-fill-color: #666;\n",
              "  }\n",
              "\n",
              "  .colab-df-quickchart {\n",
              "    background-color: var(--bg-color);\n",
              "    border: none;\n",
              "    border-radius: 50%;\n",
              "    cursor: pointer;\n",
              "    display: none;\n",
              "    fill: var(--fill-color);\n",
              "    height: 32px;\n",
              "    padding: 0;\n",
              "    width: 32px;\n",
              "  }\n",
              "\n",
              "  .colab-df-quickchart:hover {\n",
              "    background-color: var(--hover-bg-color);\n",
              "    box-shadow: 0 1px 2px rgba(60, 64, 67, 0.3), 0 1px 3px 1px rgba(60, 64, 67, 0.15);\n",
              "    fill: var(--button-hover-fill-color);\n",
              "  }\n",
              "\n",
              "  .colab-df-quickchart-complete:disabled,\n",
              "  .colab-df-quickchart-complete:disabled:hover {\n",
              "    background-color: var(--disabled-bg-color);\n",
              "    fill: var(--disabled-fill-color);\n",
              "    box-shadow: none;\n",
              "  }\n",
              "\n",
              "  .colab-df-spinner {\n",
              "    border: 2px solid var(--fill-color);\n",
              "    border-color: transparent;\n",
              "    border-bottom-color: var(--fill-color);\n",
              "    animation:\n",
              "      spin 1s steps(1) infinite;\n",
              "  }\n",
              "\n",
              "  @keyframes spin {\n",
              "    0% {\n",
              "      border-color: transparent;\n",
              "      border-bottom-color: var(--fill-color);\n",
              "      border-left-color: var(--fill-color);\n",
              "    }\n",
              "    20% {\n",
              "      border-color: transparent;\n",
              "      border-left-color: var(--fill-color);\n",
              "      border-top-color: var(--fill-color);\n",
              "    }\n",
              "    30% {\n",
              "      border-color: transparent;\n",
              "      border-left-color: var(--fill-color);\n",
              "      border-top-color: var(--fill-color);\n",
              "      border-right-color: var(--fill-color);\n",
              "    }\n",
              "    40% {\n",
              "      border-color: transparent;\n",
              "      border-right-color: var(--fill-color);\n",
              "      border-top-color: var(--fill-color);\n",
              "    }\n",
              "    60% {\n",
              "      border-color: transparent;\n",
              "      border-right-color: var(--fill-color);\n",
              "    }\n",
              "    80% {\n",
              "      border-color: transparent;\n",
              "      border-right-color: var(--fill-color);\n",
              "      border-bottom-color: var(--fill-color);\n",
              "    }\n",
              "    90% {\n",
              "      border-color: transparent;\n",
              "      border-bottom-color: var(--fill-color);\n",
              "    }\n",
              "  }\n",
              "</style>\n",
              "\n",
              "  <script>\n",
              "    async function quickchart(key) {\n",
              "      const quickchartButtonEl =\n",
              "        document.querySelector('#' + key + ' button');\n",
              "      quickchartButtonEl.disabled = true;  // To prevent multiple clicks.\n",
              "      quickchartButtonEl.classList.add('colab-df-spinner');\n",
              "      try {\n",
              "        const charts = await google.colab.kernel.invokeFunction(\n",
              "            'suggestCharts', [key], {});\n",
              "      } catch (error) {\n",
              "        console.error('Error during call to suggestCharts:', error);\n",
              "      }\n",
              "      quickchartButtonEl.classList.remove('colab-df-spinner');\n",
              "      quickchartButtonEl.classList.add('colab-df-quickchart-complete');\n",
              "    }\n",
              "    (() => {\n",
              "      let quickchartButtonEl =\n",
              "        document.querySelector('#df-4e6794e9-290b-45b4-b55d-f9d6e502557c button');\n",
              "      quickchartButtonEl.style.display =\n",
              "        google.colab.kernel.accessAllowed ? 'block' : 'none';\n",
              "    })();\n",
              "  </script>\n",
              "</div>\n",
              "\n",
              "    </div>\n",
              "  </div>\n"
            ]
          },
          "metadata": {},
          "execution_count": 2
        }
      ]
    },
    {
      "cell_type": "markdown",
      "source": [
        "## 6.3. DataFrame info() method\n",
        "\n",
        "- The `info()` method provides a concise summary of the DataFrame, including the data types of each column, the number of non-null values, and memory usage.\n",
        "- It's useful for quickly checking the structure of the DataFrame, identifying missing values, and understanding the data types."
      ],
      "metadata": {
        "id": "Qf_5-5_Px8mF"
      },
      "id": "Qf_5-5_Px8mF"
    },
    {
      "cell_type": "code",
      "source": [
        "data = [\n",
        "    ['John', 25, 'New York'],\n",
        "    ['Alice', 30, 'San Francisco'],\n",
        "    ['Bob', 22, 'Los Angeles']\n",
        "]\n",
        "\n",
        "columns = ['Name', 'Age', 'City']\n",
        "df = pandas.DataFrame(data, columns=columns)\n",
        "\n",
        "df.info()"
      ],
      "metadata": {
        "colab": {
          "base_uri": "https://localhost:8080/"
        },
        "id": "PFsx3aL_yNN0",
        "outputId": "7d827120-15ba-44d6-d5db-43806a35b60f"
      },
      "id": "PFsx3aL_yNN0",
      "execution_count": null,
      "outputs": [
        {
          "output_type": "stream",
          "name": "stdout",
          "text": [
            "<class 'pandas.core.frame.DataFrame'>\n",
            "RangeIndex: 3 entries, 0 to 2\n",
            "Data columns (total 3 columns):\n",
            " #   Column  Non-Null Count  Dtype \n",
            "---  ------  --------------  ----- \n",
            " 0   Name    3 non-null      object\n",
            " 1   Age     3 non-null      int64 \n",
            " 2   City    3 non-null      object\n",
            "dtypes: int64(1), object(2)\n",
            "memory usage: 200.0+ bytes\n"
          ]
        }
      ]
    },
    {
      "cell_type": "markdown",
      "source": [
        "## Exercise E6. Create and display a dataframe\n",
        "\n",
        "- Create a DataFrame representing the grades of students in a class. Include columns for `student names`, `Math marks`, and `English marks`. Use at least 5 rows of data.\n",
        "\n",
        "- Display the first few rows of the DataFrame to inspect the data using `head()` method.\n",
        "\n",
        "- Display only `student names`.\n",
        "\n",
        "- Print a summary of the dataset through `info()` method.\n",
        "\n",
        "**Optional (not graded)**\n",
        "- Add one more column to the dataframe called `average_marks` which should contain the average of Math marks and English marks for each student."
      ],
      "metadata": {
        "id": "r63osaIsyfmc"
      },
      "id": "r63osaIsyfmc"
    },
    {
      "cell_type": "code",
      "source": [
        "import pandas\n",
        "data = [\n",
        "    ['John', 85, 90],\n",
        "    ['Emily', 70, 75],\n",
        "    ['Bob', 90, 100],\n",
        "    ['Niha', 30, 40],\n",
        "    ['Madhu', 25, 45]\n",
        "]\n",
        "\n",
        "columns = ['student names', 'Math marks', 'English marks']\n",
        "df = pandas.DataFrame(data, columns=columns)\n",
        "\n",
        "print(df.head(2))\n",
        "\n",
        "print(df[\"student names\"])\n",
        "\n",
        "df.info()"
      ],
      "metadata": {
        "colab": {
          "base_uri": "https://localhost:8080/"
        },
        "id": "p9S43INeZM9N",
        "outputId": "e2f9fa60-7283-4a24-9e8f-fd2f6496e074"
      },
      "id": "p9S43INeZM9N",
      "execution_count": 1,
      "outputs": [
        {
          "output_type": "stream",
          "name": "stdout",
          "text": [
            "  student names  Math marks  English marks\n",
            "0          John          85             90\n",
            "1         Emily          70             75\n",
            "0     John\n",
            "1    Emily\n",
            "2      Bob\n",
            "3     Niha\n",
            "4    Madhu\n",
            "Name: student names, dtype: object\n",
            "<class 'pandas.core.frame.DataFrame'>\n",
            "RangeIndex: 5 entries, 0 to 4\n",
            "Data columns (total 3 columns):\n",
            " #   Column         Non-Null Count  Dtype \n",
            "---  ------         --------------  ----- \n",
            " 0   student names  5 non-null      object\n",
            " 1   Math marks     5 non-null      int64 \n",
            " 2   English marks  5 non-null      int64 \n",
            "dtypes: int64(2), object(1)\n",
            "memory usage: 248.0+ bytes\n"
          ]
        }
      ]
    },
    {
      "cell_type": "markdown",
      "source": [
        "**Note:** we  did not cover Python NumPy. It is a good idea to go through this link to know more: https://www.geeksforgeeks.org/python-numpy/"
      ],
      "metadata": {
        "id": "kLFRuUy-0e4y"
      },
      "id": "kLFRuUy-0e4y"
    }
  ],
  "metadata": {
    "kernelspec": {
      "display_name": "Python 3 (ipykernel)",
      "language": "python",
      "name": "python3"
    },
    "language_info": {
      "codemirror_mode": {
        "name": "ipython",
        "version": 3
      },
      "file_extension": ".py",
      "mimetype": "text/x-python",
      "name": "python",
      "nbconvert_exporter": "python",
      "pygments_lexer": "ipython3",
      "version": "3.10.8"
    },
    "colab": {
      "provenance": []
    }
  },
  "nbformat": 4,
  "nbformat_minor": 5
}
