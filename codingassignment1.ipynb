{
 "cells": [
  {
   "cell_type": "code",
   "execution_count": 28,
   "id": "2d2d2863",
   "metadata": {},
   "outputs": [
    {
     "name": "stdout",
     "output_type": "stream",
     "text": [
      "20.0\n",
      "Invalid input: base and height must be positive values\n"
     ]
    }
   ],
   "source": [
    "# Given the base and height Define a function to calculate the area of a triangle \n",
    "def calculate_triangle_area(base, height):\n",
    "    \n",
    "    area = 1/2 * base * height\n",
    "    if 0 < base and 0 < area:\n",
    "        return area\n",
    "    else:\n",
    "        return 'Invalid input: base and height must be positive values'\n",
    "\n",
    "\n",
    "base = 5\n",
    "height = 8\n",
    "result = calculate_triangle_area(base, height)\n",
    "\n",
    "\n",
    "base = -3\n",
    "height = 6\n",
    "result1 = calculate_triangle_area(base, height)\n",
    "\n",
    "print(result)\n",
    "print(result1)\n",
    "\n"
   ]
  },
  {
   "cell_type": "markdown",
   "id": "ed3b5356",
   "metadata": {},
   "source": [
    "The code above uses two parameters for base and height and uses a formula in the function to calculate its area. Using if-else statements allows these parameters to be within the proper confines of math. The area variable uses this formula, and the if sattement uses the conjunction and to make the code simpler. "
   ]
  },
  {
   "cell_type": "code",
   "execution_count": 19,
   "id": "1d760dd9",
   "metadata": {},
   "outputs": [
    {
     "name": "stdout",
     "output_type": "stream",
     "text": [
      "Positive\n",
      "Negative\n"
     ]
    }
   ],
   "source": [
    "# This function defines a number as 'Negative', 'Zero', or 'Positive'\n",
    "def classify_number(number):\n",
    "    if number < 0:\n",
    "        return \"Negative\"\n",
    "    elif number == 0:\n",
    "        return \"Zero\"\n",
    "    else:\n",
    "        return \"Positive\"\n",
    "    \n",
    "number = 10\n",
    "result = classify_number(number)\n",
    "\n",
    "number = -5\n",
    "result1 = classify_number(number)\n",
    "\n",
    "print(result)\n",
    "print(result1)"
   ]
  },
  {
   "cell_type": "markdown",
   "id": "5f1c7a9a",
   "metadata": {},
   "source": [
    "This function takes in a number and uses if-elif-else statements to determine its positivity/negativity. The results make sense since 10 > 0 and -5 < 0. "
   ]
  },
  {
   "cell_type": "code",
   "execution_count": 23,
   "id": "cf550f90",
   "metadata": {},
   "outputs": [
    {
     "name": "stdout",
     "output_type": "stream",
     "text": [
      "[1, 2, 3, 4, 5, 6]\n",
      "[10, 20, 30, 40]\n"
     ]
    }
   ],
   "source": [
    "# dict.fromkeys() method by definition doesn't have duplicates, yet it'll return 1: none, 2: none, etc; so convert back to list\n",
    "# This function removes duplicates from a list by converting it into a dictionary and then converts it back to a list.\n",
    "def remove_duplicates(numbers):\n",
    "    return list(dict.fromkeys(numbers))\n",
    "\n",
    "numbers = [1, 2, 3, 3, 4, 5, 5, 6]\n",
    "print(remove_duplicates(numbers))\n",
    "\n",
    "numbers = [10, 20, 10, 30, 30, 40]\n",
    "print(remove_duplicates(numbers))"
   ]
  },
  {
   "cell_type": "markdown",
   "id": "38849b87",
   "metadata": {},
   "source": [
    "This function takes in a list and converts it into a dictionairy, since dictionaries can't have duplicates. It makes use of the fact that these are all considered \"keys\" and no values are provided. The result takes out the duplicates of 5 or 30. "
   ]
  },
  {
   "cell_type": "code",
   "execution_count": 2,
   "id": "109474a6",
   "metadata": {},
   "outputs": [
    {
     "name": "stdout",
     "output_type": "stream",
     "text": [
      "[3, 4, 5]\n",
      "[20, 30, 40]\n"
     ]
    }
   ],
   "source": [
    "# This function sees the intersection of two lists before returning a list of elements that exist in both lists.\n",
    "def list_intersection(list1, list2):\n",
    "    list3 = [] # Create an empty list to store the common elements.\n",
    "    for i in list1: # Iterate through the first list.\n",
    "        if i in list2:\n",
    "            list3.append(i)\n",
    "    return list3\n",
    "list1 = [1, 2, 3, 4, 5]\n",
    "list2 = [3, 4, 5, 6, 7]\n",
    "result = list_intersection(list1, list2)\n",
    "print(result)\n",
    "\n",
    "list1 = [10, 20, 30, 40]\n",
    "list2 = [20, 30, 40, 50]\n",
    "result = list_intersection(list1, list2)\n",
    "print(result)"
   ]
  },
  {
   "cell_type": "markdown",
   "id": "10474e3f",
   "metadata": {},
   "source": [
    "This function takes in 2 lists but then generates a third empty list, and using a for loop woven with an if statement, it runs through elements in the frist list and if that eleemnt exists in the second, it just adds it using the append() method, to the third empty list. Then this third list is generated. "
   ]
  },
  {
   "cell_type": "code",
   "execution_count": 8,
   "id": "d28f4a9a",
   "metadata": {},
   "outputs": [
    {
     "name": "stdout",
     "output_type": "stream",
     "text": [
      "85.0\n",
      "88.33333333333333\n"
     ]
    }
   ],
   "source": [
    "# This function calculates the average of numbers in a dictionary\n",
    "def average_score(scores):\n",
    "    average = 0\n",
    "    counter = 0\n",
    "    for x in scores.values(): # Loop over the values in the dictionary.\n",
    "        average += x # Add each score to the total sum.\n",
    "        counter += 1 # Increment the count for each score.\n",
    "    true_average = average/counter # Calculate the average by dividing the total sum by the count.\n",
    "    return true_average\n",
    "scores = {'Alice': 85, 'Bob': 92, 'Charlie': 78}\n",
    "result = average_score(scores)\n",
    "print(result)\n",
    "\n",
    "scores = {'John': 90, 'Emma': 95, 'Michael': 80}\n",
    "result = average_score(scores)\n",
    "print(result)"
   ]
  },
  {
   "cell_type": "markdown",
   "id": "b99c235f",
   "metadata": {},
   "source": [
    "This function simply, like an empty list, adds elements from a dictionary's values to the average variable and makes a counter variable to count every iteration, ie the length of the average formula. \n",
    "\n",
    "True average variable is the formula that gets returned. "
   ]
  },
  {
   "cell_type": "code",
   "execution_count": 10,
   "id": "cdf5776c",
   "metadata": {},
   "outputs": [
    {
     "name": "stdout",
     "output_type": "stream",
     "text": [
      "{'a': 10, 'b': 25, 'c': 45, 'd': 25}\n",
      "{'x': 100, 'y': 500, 'z': 400}\n"
     ]
    }
   ],
   "source": [
    "# This function merges two dictionaries and if a key is present in both dictionaries, it sums their values.\n",
    "def merge_and_update(dict1, dict2):\n",
    "    dict3 = {}\n",
    "    for key, value in dict1.items():\n",
    "        dict3[key] = value # Add each key-value pair to the third dictionary.\n",
    "    \n",
    "    for key, value in dict2.items(): # Iterate over the second dictionary.\n",
    "        if key in dict3: # Check if the key is already in the third dictionary.\n",
    "            dict3[key] += value\n",
    "        else:\n",
    "            dict3[key] = value # If not, add the key-value pair to the third dictionary.\n",
    "    return dict3\n",
    "\n",
    "dict1 = {'a': 10, 'b': 20, 'c': 30}\n",
    "dict2 = {'b': 5, 'c': 15, 'd': 25}\n",
    "result = merge_and_update(dict1, dict2)\n",
    "print(result)\n",
    "\n",
    "dict1 = {'x': 100, 'y': 200}\n",
    "dict2 = {'y': 300, 'z': 400}\n",
    "result = merge_and_update(dict1, dict2)\n",
    "print(result)\n",
    "        \n",
    "    "
   ]
  },
  {
   "cell_type": "markdown",
   "id": "d8c88733",
   "metadata": {},
   "source": [
    "This function creates a third empty dictionairy and merges the values that may already exist for similar keys in two existing dictionaries.  It does this by having two for loops and using an if statement to say \"If the key in the first dictionairy exists in the second, then add their two corresponding values together. "
   ]
  },
  {
   "cell_type": "code",
   "execution_count": 29,
   "id": "7542007c",
   "metadata": {},
   "outputs": [
    {
     "name": "stdout",
     "output_type": "stream",
     "text": [
      "3\n",
      "6\n"
     ]
    }
   ],
   "source": [
    "def count_vowels(input_string):\n",
    "    counter = 0 # Initialize a counter for the vowels.\n",
    "    for v in input_string.lower(): # Convert the string to lowercase and iterate through each character.\n",
    "        if v == 'a':\n",
    "            counter += 1 # Increase the counter for each vowel found.\n",
    "        elif v == 'e':\n",
    "            counter += 1\n",
    "        elif v == 'i':\n",
    "            counter += 1\n",
    "        elif v == 'o':\n",
    "            counter += 1\n",
    "        elif v == 'u':\n",
    "            counter += 1\n",
    "        else:\n",
    "            counter += 0\n",
    "    return counter\n",
    "\n",
    "input_string = \"Hello, World!\"\n",
    "result = count_vowels(input_string)\n",
    "print(result)\n",
    "\n",
    "input_string = \"Python is awesome\"\n",
    "result = count_vowels(input_string)\n",
    "print(result)"
   ]
  },
  {
   "cell_type": "markdown",
   "id": "815baa32",
   "metadata": {},
   "source": [
    "This function takes an input string and uses mutliple if-elif statements to determine if there's a vowel in this string but does it through looking at each of the e, i, o, u in a all lower case version of the string. "
   ]
  },
  {
   "cell_type": "code",
   "execution_count": 16,
   "id": "4eae3004",
   "metadata": {},
   "outputs": [
    {
     "name": "stdout",
     "output_type": "stream",
     "text": [
      "Hello World\n",
      "Python Programming Is Fun\n"
     ]
    }
   ],
   "source": [
    "# This function capitalizes the first letter of each word in a given sentence.\n",
    "def capitalize_words(sentence):\n",
    "    words = sentence.split() #  Split the sentence into a list of words.\n",
    "    capitalized_words = []\n",
    "    \n",
    "    for word in words: # Iterate over each word in the sentence.\n",
    "        capitalized_words.append(word.capitalize()) # Capitalize the first letter of the word and add it to the list.\n",
    "    \n",
    "    capitalized_sentence = ' '.join(capitalized_words) # Join the capitalized words back into a single string.\n",
    "    \n",
    "    \n",
    "    return capitalized_sentence\n",
    "\n",
    "sentence = \"hello world\"\n",
    "result = capitalize_words(sentence)\n",
    "print(result)\n",
    "\n",
    "sentence = \"python programming is fun\"\n",
    "result = capitalize_words(sentence)\n",
    "print(result)"
   ]
  },
  {
   "cell_type": "markdown",
   "id": "945c8038",
   "metadata": {},
   "source": [
    "This function uses the split and join methods to take a string and first split it by each of its words, before iterating thoguh each word and capitalizing it using the capitalize method. Then the join method, instead of having a list of words, re-converts it to a normal string again. "
   ]
  },
  {
   "cell_type": "code",
   "execution_count": 23,
   "id": "75a4fdac",
   "metadata": {},
   "outputs": [
    {
     "name": "stdout",
     "output_type": "stream",
     "text": [
      "135\n"
     ]
    }
   ],
   "source": [
    "import pandas as pd\n",
    "\n",
    "# Initialize lists representing products, quantities and prices.\n",
    "list1 = ['A', 5, 10]\n",
    "list2 = ['B', 3, 15]\n",
    "list3 = ['C', 2, 20]\n",
    "\n",
    "# Define the column names for the DataFrame.\n",
    "\n",
    "columns = ['Product', 'Quantity', 'Price']\n",
    "\n",
    "data = [('A', 5, 10), ('B', 3, 15), ('C', 2, 20)]\n",
    "\n",
    "df = pd.DataFrame(data, columns=columns)\n",
    "\n",
    "# print(df)\n",
    "\n",
    "def total_sales(df):\n",
    "    # Multiply 'Quantity' by 'Price' for each row and sum the results to get total sales.\n",
    "    return (df['Quantity'] * df['Price']).sum()\n",
    "    \n",
    "result = total_sales(df)\n",
    "print(result)"
   ]
  },
  {
   "cell_type": "markdown",
   "id": "8f533f3e",
   "metadata": {},
   "source": [
    "The above code was helped with reference of an exemplar Stack Overflow coverage of dataframes and how to properly syntax it: https://stackoverflow.com/questions/73823564/how-to-create-this-dataframe-using-pandas\n",
    "\n",
    "Essentially first I needed to generate a data frame using the classic columsna nd data varibles that are necessary to generate a dataframe given three lists. Then using the specific clumns of quantity and price to make a formula that generates teh total sum (using the sum method), I was able to return that value. \n"
   ]
  },
  {
   "cell_type": "code",
   "execution_count": 27,
   "id": "5a9c6ed3",
   "metadata": {},
   "outputs": [
    {
     "name": "stdout",
     "output_type": "stream",
     "text": [
      "  Product  Quantity  Price\n",
      "0       A         5     10\n",
      "1       B         3     15\n"
     ]
    }
   ],
   "source": [
    "import pandas as pd\n",
    "\n",
    "columns = ['Product', 'Quantity', 'Price']\n",
    "\n",
    "data = [('A', 5, 10), ('B', 3, 15), ('C', 2, 20)]\n",
    "\n",
    "df = pd.DataFrame(data, columns=columns)\n",
    "\n",
    "# This function filters rows in the DataFrame based on a quantity threshold, \n",
    "# returning a new DataFrame with only the rows that meet this threshold.\n",
    "def filter_dataframe(df, threshold):\n",
    "    # Filter the DataFrame for rows where the 'Quantity' column is greater than the specified threshold.\n",
    "    threshold_df = df[df['Quantity'] > threshold]\n",
    "    return threshold_df\n",
    "\n",
    "result = filter_dataframe (df, threshold = 2)\n",
    "\n",
    "print (result)"
   ]
  },
  {
   "cell_type": "markdown",
   "id": "d11da7bb",
   "metadata": {},
   "source": [
    "This function builds off the same dataframe in the previous problem but this time generates a dataframe that takes one column, the quantity, and makes a datafram efor all the corresponding product, quantity, and price that beat this threshold, in this case, being 2. "
   ]
  },
  {
   "cell_type": "code",
   "execution_count": null,
   "id": "28a3eef5",
   "metadata": {},
   "outputs": [],
   "source": []
  }
 ],
 "metadata": {
  "kernelspec": {
   "display_name": "Python 3 (ipykernel)",
   "language": "python",
   "name": "python3"
  },
  "language_info": {
   "codemirror_mode": {
    "name": "ipython",
    "version": 3
   },
   "file_extension": ".py",
   "mimetype": "text/x-python",
   "name": "python",
   "nbconvert_exporter": "python",
   "pygments_lexer": "ipython3",
   "version": "3.11.5"
  }
 },
 "nbformat": 4,
 "nbformat_minor": 5
}
